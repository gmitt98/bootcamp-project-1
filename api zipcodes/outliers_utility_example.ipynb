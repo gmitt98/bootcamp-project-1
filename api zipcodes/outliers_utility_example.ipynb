{
 "cells": [
  {
   "cell_type": "markdown",
   "id": "745aea82",
   "metadata": {},
   "source": [
    "**outliers_utility function usage example**\n",
    "\n",
    "Accesses the annual outlier .csv files and pulls out the zip codes and values for a single year that you select as an input"
   ]
  },
  {
   "cell_type": "code",
   "execution_count": 2,
   "id": "a943cb78",
   "metadata": {},
   "outputs": [
    {
     "name": "stdout",
     "output_type": "stream",
     "text": [
      "Must enter years that are present in the data set, which were 1975-2022 for the original run\n"
     ]
    }
   ],
   "source": [
    "from outliers_utility import single_year_outliers\n",
    "\n",
    "my_year = '1983'\n",
    "\n",
    "my_df = single_year_outliers(my_year)\n",
    "\n",
    "my_df"
   ]
  },
  {
   "cell_type": "code",
   "execution_count": null,
   "id": "69b56a92",
   "metadata": {},
   "outputs": [],
   "source": []
  }
 ],
 "metadata": {
  "kernelspec": {
   "display_name": "Python 3 (ipykernel)",
   "language": "python",
   "name": "python3"
  },
  "language_info": {
   "codemirror_mode": {
    "name": "ipython",
    "version": 3
   },
   "file_extension": ".py",
   "mimetype": "text/x-python",
   "name": "python",
   "nbconvert_exporter": "python",
   "pygments_lexer": "ipython3",
   "version": "3.10.10"
  }
 },
 "nbformat": 4,
 "nbformat_minor": 5
}
