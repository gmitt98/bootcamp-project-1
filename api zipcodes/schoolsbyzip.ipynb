{
 "cells": [
  {
   "cell_type": "code",
   "execution_count": 1,
   "id": "888ee8fb",
   "metadata": {},
   "outputs": [],
   "source": [
    "# Dependencies\n",
    "import requests\n",
    "import json\n",
    "from pprint import pprint\n",
    "import pandas as pd\n",
    "import numpy as np\n",
    "import re\n",
    "from single_zip_function import get_schools_in_zip\n",
    "from outliers_utility import single_year_outliers\n",
    "\n",
    "# Import the API key\n",
    "from config import geoapify_key"
   ]
  },
  {
   "cell_type": "code",
   "execution_count": 2,
   "id": "901a7172",
   "metadata": {},
   "outputs": [],
   "source": [
    "#set relevant year to search for outliers\n",
    "my_year=\"2022\"\n",
    "\n",
    "#pull outliers from data\n",
    "outliers_df = single_year_outliers(my_year)"
   ]
  },
  {
   "cell_type": "code",
   "execution_count": 3,
   "id": "4e603f69",
   "metadata": {},
   "outputs": [],
   "source": [
    "#create list of zipcodes\n",
    "zip_list = outliers_df[\"zip_code\"].tolist()\n",
    "zip_list = [str(int(z)) for z in zip_list if len(str(int(z))) == 5]"
   ]
  },
  {
   "cell_type": "code",
   "execution_count": 4,
   "id": "7a2fc760",
   "metadata": {},
   "outputs": [
    {
     "name": "stdout",
     "output_type": "stream",
     "text": [
      "49033\n",
      "23840\n",
      "47971\n",
      "47963\n",
      "47273\n"
     ]
    }
   ],
   "source": [
    "results=[] \n",
    "for zipcode in zip_list[:5]:\n",
    "    print(zipcode)\n",
    "    area_df, zip_df = get_schools_in_zip(zipcode)\n",
    "    num_schools_in_area = len(area_df)\n",
    "    num_schools_in_zip = len(zip_df)\n",
    "    if num_schools_in_area == 0 or num_schools_in_zip == 0:\n",
    "        lat = None\n",
    "        lon = None\n",
    "    else:\n",
    "        lat = zip_df.iloc[0]['lat']\n",
    "        lon = zip_df.iloc[0]['lon']\n",
    "    results.append({'Zip Code': zipcode, 'Lat': lat, 'Lon': lon, \n",
    "                    'Schools in Area': num_schools_in_area,\n",
    "                    'Schools in Zip Code': num_schools_in_zip})"
   ]
  },
  {
   "cell_type": "code",
   "execution_count": 5,
   "id": "b7320316",
   "metadata": {},
   "outputs": [
    {
     "data": {
      "text/plain": [
       "[{'Zip Code': '49033',\n",
       "  'Lat': 42.2322653,\n",
       "  'Lon': -85.1069293,\n",
       "  'Schools in Area': 20,\n",
       "  'Schools in Zip Code': 5},\n",
       " {'Zip Code': '23840',\n",
       "  'Lat': None,\n",
       "  'Lon': None,\n",
       "  'Schools in Area': 19,\n",
       "  'Schools in Zip Code': 0},\n",
       " {'Zip Code': '47971',\n",
       "  'Lat': 40.5642639,\n",
       "  'Lon': -87.24186921100292,\n",
       "  'Schools in Area': 17,\n",
       "  'Schools in Zip Code': 2},\n",
       " {'Zip Code': '47963',\n",
       "  'Lat': 40.94325535,\n",
       "  'Lon': -87.45171335990047,\n",
       "  'Schools in Area': 16,\n",
       "  'Schools in Zip Code': 2},\n",
       " {'Zip Code': '47273',\n",
       "  'Lat': None,\n",
       "  'Lon': None,\n",
       "  'Schools in Area': 18,\n",
       "  'Schools in Zip Code': 0}]"
      ]
     },
     "execution_count": 5,
     "metadata": {},
     "output_type": "execute_result"
    }
   ],
   "source": [
    "results"
   ]
  },
  {
   "cell_type": "code",
   "execution_count": null,
   "id": "f4039448",
   "metadata": {},
   "outputs": [],
   "source": []
  }
 ],
 "metadata": {
  "kernelspec": {
   "display_name": "Python 3 (ipykernel)",
   "language": "python",
   "name": "python3"
  },
  "language_info": {
   "codemirror_mode": {
    "name": "ipython",
    "version": 3
   },
   "file_extension": ".py",
   "mimetype": "text/x-python",
   "name": "python",
   "nbconvert_exporter": "python",
   "pygments_lexer": "ipython3",
   "version": "3.9.13"
  }
 },
 "nbformat": 4,
 "nbformat_minor": 5
}
