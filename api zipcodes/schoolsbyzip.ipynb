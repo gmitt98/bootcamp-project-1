{
 "cells": [
  {
   "cell_type": "code",
   "execution_count": 1,
   "id": "888ee8fb",
   "metadata": {},
   "outputs": [],
   "source": [
    "# Dependencies\n",
    "import requests\n",
    "import json\n",
    "from pprint import pprint\n",
    "import pandas as pd\n",
    "import numpy as np\n",
    "import re\n",
    "from single_zip_function import get_schools_in_zip\n",
    "from outliers_utility import single_year_outliers\n",
    "\n",
    "# Import the API key\n",
    "from config import geoapify_key"
   ]
  },
  {
   "cell_type": "code",
   "execution_count": 2,
   "id": "901a7172",
   "metadata": {},
   "outputs": [],
   "source": [
    "#set relevant year to search for outliers\n",
    "my_year=\"2022\"\n",
    "\n",
    "#pull outliers from data\n",
    "outliers_df = single_year_outliers(my_year)"
   ]
  },
  {
   "cell_type": "code",
   "execution_count": 3,
   "id": "4e603f69",
   "metadata": {},
   "outputs": [],
   "source": [
    "#create list of zipcodes\n",
    "zip_list = outliers_df[\"zip_code\"].tolist()\n",
    "zip_list = [str(int(z)) for z in zip_list if len(str(int(z))) == 5]"
   ]
  },
  {
   "cell_type": "code",
   "execution_count": 8,
   "id": "7a2fc760",
   "metadata": {},
   "outputs": [],
   "source": [
    "results=[] \n",
    "\n",
    "for zipcode in zip_list[:20]:   #change the number in zip_list parameter for how many schools to return\n",
    "    area_df, zip_df = get_schools_in_zip(zipcode)\n",
    "    num_schools_in_area = len(area_df)\n",
    "    num_schools_in_zip = len(zip_df)\n",
    "    if num_schools_in_area == 0:\n",
    "        lat = None\n",
    "        lon = None\n",
    "    else:\n",
    "        lat = area_df.iloc[0]['lat']\n",
    "        lon = area_df.iloc[0]['lon']\n",
    "    results.append({'Zip Code': zipcode, 'Lat': lat, 'Lon': lon, \n",
    "                    'Schools in Area': num_schools_in_area,\n",
    "                    'Schools in Zip Code': num_schools_in_zip})"
   ]
  },
  {
   "cell_type": "code",
   "execution_count": 9,
   "id": "b7320316",
   "metadata": {},
   "outputs": [
    {
     "name": "stdout",
     "output_type": "stream",
     "text": [
      "   Zip Code        Lat        Lon  Schools in Area  Schools in Zip Code\n",
      "0     49033  42.232265 -85.106929               20                    5\n",
      "1     23840  37.079668 -77.581658               19                    0\n",
      "2     47971  40.564264 -87.241869               17                    2\n",
      "3     47963  40.943255 -87.451713               16                    2\n",
      "4     47273  38.982488 -85.738818               18                    0\n",
      "5     48649  43.189494 -84.130378               19                    1\n",
      "6     24549  36.706249 -79.522528               15                    2\n",
      "7     47220  38.826444 -86.019979               18                    1\n",
      "8     48747  43.489467 -83.738300               19                    3\n",
      "9     22853  38.626722 -78.773738               18                    1\n",
      "10    47598  38.385883 -87.212231               17                    1\n",
      "11    47633  38.141118 -87.801152               14                    3\n",
      "12    22969  37.821448 -78.595454               20                    0\n",
      "13    48615  43.415463 -84.476787               20                    2\n",
      "14    24070  37.282408 -80.140412               15                    0\n",
      "15    24067  37.012082 -80.047537               16                    1\n",
      "16    48873  43.000489 -84.853395               18                    1\n",
      "17    25401  39.452085 -77.975648               17                    9\n",
      "18    35989  34.564251 -85.614410               17                    1\n",
      "19    35978  34.634251 -85.768582               18                    2\n"
     ]
    }
   ],
   "source": [
    "#return dataframe \n",
    "\n",
    "df = pd.DataFrame(results)\n",
    "print(df)"
   ]
  },
  {
   "cell_type": "code",
   "execution_count": null,
   "id": "f4039448",
   "metadata": {},
   "outputs": [],
   "source": []
  }
 ],
 "metadata": {
  "kernelspec": {
   "display_name": "Python 3 (ipykernel)",
   "language": "python",
   "name": "python3"
  },
  "language_info": {
   "codemirror_mode": {
    "name": "ipython",
    "version": 3
   },
   "file_extension": ".py",
   "mimetype": "text/x-python",
   "name": "python",
   "nbconvert_exporter": "python",
   "pygments_lexer": "ipython3",
   "version": "3.9.13"
  }
 },
 "nbformat": 4,
 "nbformat_minor": 5
}
