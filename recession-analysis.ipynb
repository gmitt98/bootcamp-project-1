{
 "cells": [
  {
   "attachments": {},
   "cell_type": "markdown",
   "id": "7398d404",
   "metadata": {},
   "source": [
    "## 0 - Data ingestion and prep"
   ]
  },
  {
   "cell_type": "code",
   "execution_count": 24,
   "metadata": {},
   "outputs": [],
   "source": [
    "import pandas as pd\n",
    "from matplotlib import pyplot as plt\n",
    "import matplotlib.pyplot as plt\n",
    "import os\n",
    "os.getcwd()\n",
    "recession_df = pd.read_csv('data/cleaned data/total_market_data_merged.csv')"
   ]
  },
  {
   "cell_type": "code",
   "execution_count": 3,
   "id": "ac117868",
   "metadata": {},
   "outputs": [
    {
     "data": {
      "text/html": [
       "<div>\n",
       "<style scoped>\n",
       "    .dataframe tbody tr th:only-of-type {\n",
       "        vertical-align: middle;\n",
       "    }\n",
       "\n",
       "    .dataframe tbody tr th {\n",
       "        vertical-align: top;\n",
       "    }\n",
       "\n",
       "    .dataframe thead th {\n",
       "        text-align: right;\n",
       "    }\n",
       "</style>\n",
       "<table border=\"1\" class=\"dataframe\">\n",
       "  <thead>\n",
       "    <tr style=\"text-align: right;\">\n",
       "      <th></th>\n",
       "      <th>Five-Digit ZIP Code</th>\n",
       "      <th>year</th>\n",
       "      <th>Annual Change (%)</th>\n",
       "      <th>HPI</th>\n",
       "      <th>HPI from 2012</th>\n",
       "      <th>HPI with 2012 base</th>\n",
       "      <th>normalized_sale_price</th>\n",
       "      <th>RECESSION_FLAG</th>\n",
       "      <th>avg_rate_for_year</th>\n",
       "      <th>Median_hh_income</th>\n",
       "      <th>Year_Avg_Unempl</th>\n",
       "      <th>state</th>\n",
       "      <th>zip_code</th>\n",
       "      <th>bucketed_year</th>\n",
       "      <th>State_Num</th>\n",
       "      <th>Resident Population</th>\n",
       "      <th>Percent Change in Resident Population</th>\n",
       "    </tr>\n",
       "  </thead>\n",
       "  <tbody>\n",
       "    <tr>\n",
       "      <th>0</th>\n",
       "      <td>1001.0</td>\n",
       "      <td>1984</td>\n",
       "      <td>.</td>\n",
       "      <td>100.00</td>\n",
       "      <td>279.95</td>\n",
       "      <td>0.357207</td>\n",
       "      <td>58369.688570</td>\n",
       "      <td>0</td>\n",
       "      <td>10.225000</td>\n",
       "      <td>55828</td>\n",
       "      <td>7.7</td>\n",
       "      <td>Massachusetts</td>\n",
       "      <td>1001</td>\n",
       "      <td>1990</td>\n",
       "      <td>6.0</td>\n",
       "      <td>6016425.0</td>\n",
       "      <td>4.9</td>\n",
       "    </tr>\n",
       "    <tr>\n",
       "      <th>1</th>\n",
       "      <td>1001.0</td>\n",
       "      <td>1985</td>\n",
       "      <td>16.00</td>\n",
       "      <td>116.00</td>\n",
       "      <td>279.95</td>\n",
       "      <td>0.414360</td>\n",
       "      <td>67708.838742</td>\n",
       "      <td>0</td>\n",
       "      <td>8.100833</td>\n",
       "      <td>56871</td>\n",
       "      <td>7.2</td>\n",
       "      <td>Massachusetts</td>\n",
       "      <td>1001</td>\n",
       "      <td>1990</td>\n",
       "      <td>6.0</td>\n",
       "      <td>6016425.0</td>\n",
       "      <td>4.9</td>\n",
       "    </tr>\n",
       "    <tr>\n",
       "      <th>2</th>\n",
       "      <td>1001.0</td>\n",
       "      <td>1986</td>\n",
       "      <td>14.21</td>\n",
       "      <td>132.48</td>\n",
       "      <td>279.95</td>\n",
       "      <td>0.473227</td>\n",
       "      <td>77328.163418</td>\n",
       "      <td>0</td>\n",
       "      <td>6.805000</td>\n",
       "      <td>58920</td>\n",
       "      <td>6.7</td>\n",
       "      <td>Massachusetts</td>\n",
       "      <td>1001</td>\n",
       "      <td>1990</td>\n",
       "      <td>6.0</td>\n",
       "      <td>6016425.0</td>\n",
       "      <td>4.9</td>\n",
       "    </tr>\n",
       "    <tr>\n",
       "      <th>3</th>\n",
       "      <td>1001.0</td>\n",
       "      <td>1987</td>\n",
       "      <td>21.08</td>\n",
       "      <td>160.41</td>\n",
       "      <td>279.95</td>\n",
       "      <td>0.572995</td>\n",
       "      <td>93630.817436</td>\n",
       "      <td>0</td>\n",
       "      <td>6.657500</td>\n",
       "      <td>59624</td>\n",
       "      <td>6.2</td>\n",
       "      <td>Massachusetts</td>\n",
       "      <td>1001</td>\n",
       "      <td>1990</td>\n",
       "      <td>6.0</td>\n",
       "      <td>6016425.0</td>\n",
       "      <td>4.9</td>\n",
       "    </tr>\n",
       "    <tr>\n",
       "      <th>4</th>\n",
       "      <td>1001.0</td>\n",
       "      <td>1988</td>\n",
       "      <td>17.63</td>\n",
       "      <td>188.68</td>\n",
       "      <td>279.95</td>\n",
       "      <td>0.673977</td>\n",
       "      <td>110131.928394</td>\n",
       "      <td>0</td>\n",
       "      <td>7.568333</td>\n",
       "      <td>60115</td>\n",
       "      <td>5.5</td>\n",
       "      <td>Massachusetts</td>\n",
       "      <td>1001</td>\n",
       "      <td>1990</td>\n",
       "      <td>6.0</td>\n",
       "      <td>6016425.0</td>\n",
       "      <td>4.9</td>\n",
       "    </tr>\n",
       "  </tbody>\n",
       "</table>\n",
       "</div>"
      ],
      "text/plain": [
       "   Five-Digit ZIP Code  year Annual Change (%)     HPI  HPI from 2012  \\\n",
       "0               1001.0  1984                 .  100.00         279.95   \n",
       "1               1001.0  1985             16.00  116.00         279.95   \n",
       "2               1001.0  1986             14.21  132.48         279.95   \n",
       "3               1001.0  1987             21.08  160.41         279.95   \n",
       "4               1001.0  1988             17.63  188.68         279.95   \n",
       "\n",
       "   HPI with 2012 base  normalized_sale_price  RECESSION_FLAG  \\\n",
       "0            0.357207           58369.688570               0   \n",
       "1            0.414360           67708.838742               0   \n",
       "2            0.473227           77328.163418               0   \n",
       "3            0.572995           93630.817436               0   \n",
       "4            0.673977          110131.928394               0   \n",
       "\n",
       "   avg_rate_for_year  Median_hh_income  Year_Avg_Unempl          state  \\\n",
       "0          10.225000             55828              7.7  Massachusetts   \n",
       "1           8.100833             56871              7.2  Massachusetts   \n",
       "2           6.805000             58920              6.7  Massachusetts   \n",
       "3           6.657500             59624              6.2  Massachusetts   \n",
       "4           7.568333             60115              5.5  Massachusetts   \n",
       "\n",
       "   zip_code  bucketed_year  State_Num  Resident Population  \\\n",
       "0      1001           1990        6.0            6016425.0   \n",
       "1      1001           1990        6.0            6016425.0   \n",
       "2      1001           1990        6.0            6016425.0   \n",
       "3      1001           1990        6.0            6016425.0   \n",
       "4      1001           1990        6.0            6016425.0   \n",
       "\n",
       "   Percent Change in Resident Population  \n",
       "0                                    4.9  \n",
       "1                                    4.9  \n",
       "2                                    4.9  \n",
       "3                                    4.9  \n",
       "4                                    4.9  "
      ]
     },
     "execution_count": 3,
     "metadata": {},
     "output_type": "execute_result"
    }
   ],
   "source": [
    "recession_df=recession_df.drop('Unnamed: 0', axis = 1)\n",
    "recession_df.head()"
   ]
  },
  {
   "cell_type": "code",
   "execution_count": 4,
   "id": "21807ea8",
   "metadata": {},
   "outputs": [],
   "source": [
    "recession_df = recession_df[recession_df[\"Annual Change (%)\"].notna()]\n",
    "recession_df=recession_df[~recession_df.isin([\".\"]).any(axis=1)]\n",
    "recession_df[\"Annual Change (%)\"] = recession_df[\"Annual Change (%)\"].astype(float)"
   ]
  },
  {
   "cell_type": "code",
   "execution_count": 5,
   "id": "fc714edf",
   "metadata": {},
   "outputs": [
    {
     "data": {
      "text/plain": [
       "Five-Digit ZIP Code                      float64\n",
       "year                                       int64\n",
       "Annual Change (%)                        float64\n",
       "HPI                                      float64\n",
       "HPI from 2012                            float64\n",
       "HPI with 2012 base                       float64\n",
       "normalized_sale_price                    float64\n",
       "RECESSION_FLAG                             int64\n",
       "avg_rate_for_year                        float64\n",
       "Median_hh_income                           int64\n",
       "Year_Avg_Unempl                          float64\n",
       "state                                     object\n",
       "zip_code                                   int64\n",
       "bucketed_year                              int64\n",
       "State_Num                                float64\n",
       "Resident Population                      float64\n",
       "Percent Change in Resident Population    float64\n",
       "dtype: object"
      ]
     },
     "execution_count": 5,
     "metadata": {},
     "output_type": "execute_result"
    }
   ],
   "source": [
    "recession_df.dtypes"
   ]
  },
  {
   "cell_type": "code",
   "execution_count": 6,
   "id": "5b5365f4",
   "metadata": {},
   "outputs": [],
   "source": [
    "import seaborn as sns"
   ]
  },
  {
   "attachments": {},
   "cell_type": "markdown",
   "id": "cdab84cc",
   "metadata": {},
   "source": [
    "## 1 - Recession (shrinking economy) in the year"
   ]
  },
  {
   "cell_type": "code",
   "execution_count": 7,
   "id": "450da615",
   "metadata": {},
   "outputs": [
    {
     "data": {
      "text/plain": [
       "1.116236732068197"
      ]
     },
     "execution_count": 7,
     "metadata": {},
     "output_type": "execute_result"
    }
   ],
   "source": [
    "recession_hpi_increase = recession_df.loc[recession_df['RECESSION_FLAG'] == 1, 'Annual Change (%)'].mean()\n",
    "recession_hpi_increase"
   ]
  },
  {
   "cell_type": "code",
   "execution_count": 8,
   "id": "ca3227b3",
   "metadata": {},
   "outputs": [
    {
     "data": {
      "text/plain": [
       "zip_code               int64\n",
       "Annual Change (%)    float64\n",
       "dtype: object"
      ]
     },
     "execution_count": 8,
     "metadata": {},
     "output_type": "execute_result"
    }
   ],
   "source": [
    "recession_df_one = recession_df[recession_df['RECESSION_FLAG']==1]\n",
    "recession_hpi_by_zip = recession_df_one.groupby('zip_code')['Annual Change (%)'].mean().reset_index()\n",
    "recession_hpi_by_zip.dtypes"
   ]
  },
  {
   "cell_type": "code",
   "execution_count": 9,
   "id": "8d230701",
   "metadata": {},
   "outputs": [
    {
     "data": {
      "text/html": [
       "<div>\n",
       "<style scoped>\n",
       "    .dataframe tbody tr th:only-of-type {\n",
       "        vertical-align: middle;\n",
       "    }\n",
       "\n",
       "    .dataframe tbody tr th {\n",
       "        vertical-align: top;\n",
       "    }\n",
       "\n",
       "    .dataframe thead th {\n",
       "        text-align: right;\n",
       "    }\n",
       "</style>\n",
       "<table border=\"1\" class=\"dataframe\">\n",
       "  <thead>\n",
       "    <tr style=\"text-align: right;\">\n",
       "      <th></th>\n",
       "      <th>zip_code</th>\n",
       "      <th>Annual Change (%)</th>\n",
       "    </tr>\n",
       "  </thead>\n",
       "  <tbody>\n",
       "    <tr>\n",
       "      <th>0</th>\n",
       "      <td>1001</td>\n",
       "      <td>0.04500</td>\n",
       "    </tr>\n",
       "    <tr>\n",
       "      <th>1</th>\n",
       "      <td>1002</td>\n",
       "      <td>-0.08375</td>\n",
       "    </tr>\n",
       "    <tr>\n",
       "      <th>2</th>\n",
       "      <td>1005</td>\n",
       "      <td>-0.14400</td>\n",
       "    </tr>\n",
       "    <tr>\n",
       "      <th>3</th>\n",
       "      <td>1007</td>\n",
       "      <td>0.15000</td>\n",
       "    </tr>\n",
       "    <tr>\n",
       "      <th>4</th>\n",
       "      <td>1008</td>\n",
       "      <td>-1.17500</td>\n",
       "    </tr>\n",
       "  </tbody>\n",
       "</table>\n",
       "</div>"
      ],
      "text/plain": [
       "   zip_code  Annual Change (%)\n",
       "0      1001            0.04500\n",
       "1      1002           -0.08375\n",
       "2      1005           -0.14400\n",
       "3      1007            0.15000\n",
       "4      1008           -1.17500"
      ]
     },
     "execution_count": 9,
     "metadata": {},
     "output_type": "execute_result"
    }
   ],
   "source": [
    "recession_hpi_by_zip.head()"
   ]
  },
  {
   "cell_type": "code",
   "execution_count": 10,
   "id": "df730f06",
   "metadata": {},
   "outputs": [
    {
     "data": {
      "text/plain": [
       "Text(0.5, 1.0, 'Recession Economy Annual Change by Zip Code')"
      ]
     },
     "execution_count": 10,
     "metadata": {},
     "output_type": "execute_result"
    },
    {
     "data": {
      "image/png": "[encoded data removed]",
      "text/plain": [
       "<Figure size 640x480 with 1 Axes>"
      ]
     },
     "metadata": {},
     "output_type": "display_data"
    }
   ],
   "source": [
    "# create a scatter plot\n",
    "plt.scatter(x='zip_code', y='Annual Change (%)', data=recession_hpi_by_zip)\n",
    "\n",
    "# labels\n",
    "plt.xlabel('Zip Code')\n",
    "plt.ylabel('Annual Change (%)')\n",
    "plt.title('Recession Economy Annual Change by Zip Code')"
   ]
  },
  {
   "attachments": {},
   "cell_type": "markdown",
   "id": "4042ca26",
   "metadata": {},
   "source": [
    "## 2 - No Recession (growing economy) in the year"
   ]
  },
  {
   "cell_type": "code",
   "execution_count": 11,
   "id": "022da00a",
   "metadata": {},
   "outputs": [
    {
     "data": {
      "text/plain": [
       "5.0258171408849375"
      ]
     },
     "execution_count": 11,
     "metadata": {},
     "output_type": "execute_result"
    }
   ],
   "source": [
    "bull_hpi_increase = recession_df.loc[recession_df['RECESSION_FLAG'] == 0, 'Annual Change (%)'].mean()\n",
    "bull_hpi_increase"
   ]
  },
  {
   "cell_type": "code",
   "execution_count": 12,
   "id": "6ea07e2e",
   "metadata": {},
   "outputs": [
    {
     "data": {
      "text/plain": [
       "zip_code               int64\n",
       "Annual Change (%)    float64\n",
       "dtype: object"
      ]
     },
     "execution_count": 12,
     "metadata": {},
     "output_type": "execute_result"
    }
   ],
   "source": [
    "recession_df_zero = recession_df[recession_df['RECESSION_FLAG']==0]\n",
    "no_recession_hpi_by_zip = recession_df_zero.groupby('zip_code')['Annual Change (%)'].mean().reset_index()\n",
    "no_recession_hpi_by_zip.dtypes\n"
   ]
  },
  {
   "cell_type": "code",
   "execution_count": 13,
   "id": "47cf9d23",
   "metadata": {},
   "outputs": [
    {
     "data": {
      "text/html": [
       "<div>\n",
       "<style scoped>\n",
       "    .dataframe tbody tr th:only-of-type {\n",
       "        vertical-align: middle;\n",
       "    }\n",
       "\n",
       "    .dataframe tbody tr th {\n",
       "        vertical-align: top;\n",
       "    }\n",
       "\n",
       "    .dataframe thead th {\n",
       "        text-align: right;\n",
       "    }\n",
       "</style>\n",
       "<table border=\"1\" class=\"dataframe\">\n",
       "  <thead>\n",
       "    <tr style=\"text-align: right;\">\n",
       "      <th></th>\n",
       "      <th>zip_code</th>\n",
       "      <th>Annual Change (%)</th>\n",
       "    </tr>\n",
       "  </thead>\n",
       "  <tbody>\n",
       "    <tr>\n",
       "      <th>0</th>\n",
       "      <td>1001</td>\n",
       "      <td>5.109000</td>\n",
       "    </tr>\n",
       "    <tr>\n",
       "      <th>1</th>\n",
       "      <td>1002</td>\n",
       "      <td>5.783871</td>\n",
       "    </tr>\n",
       "    <tr>\n",
       "      <th>2</th>\n",
       "      <td>1005</td>\n",
       "      <td>4.446400</td>\n",
       "    </tr>\n",
       "    <tr>\n",
       "      <th>3</th>\n",
       "      <td>1007</td>\n",
       "      <td>5.092414</td>\n",
       "    </tr>\n",
       "    <tr>\n",
       "      <th>4</th>\n",
       "      <td>1008</td>\n",
       "      <td>3.724667</td>\n",
       "    </tr>\n",
       "  </tbody>\n",
       "</table>\n",
       "</div>"
      ],
      "text/plain": [
       "   zip_code  Annual Change (%)\n",
       "0      1001           5.109000\n",
       "1      1002           5.783871\n",
       "2      1005           4.446400\n",
       "3      1007           5.092414\n",
       "4      1008           3.724667"
      ]
     },
     "execution_count": 13,
     "metadata": {},
     "output_type": "execute_result"
    }
   ],
   "source": [
    "no_recession_hpi_by_zip.head()"
   ]
  },
  {
   "cell_type": "code",
   "execution_count": 14,
   "id": "80693342",
   "metadata": {},
   "outputs": [
    {
     "data": {
      "text/plain": [
       "Text(0.5, 1.0, 'Growth Economy Annual Change by Zip Code')"
      ]
     },
     "execution_count": 14,
     "metadata": {},
     "output_type": "execute_result"
    },
    {
     "data": {
      "image/png": "[encoded data removed]",
      "text/plain": [
       "<Figure size 640x480 with 1 Axes>"
      ]
     },
     "metadata": {},
     "output_type": "display_data"
    }
   ],
   "source": [
    "# create a scatter plot\n",
    "plt.scatter(x='zip_code', y='Annual Change (%)', data=no_recession_hpi_by_zip)\n",
    "\n",
    "# labels\n",
    "plt.xlabel('Zip Code')\n",
    "plt.ylabel('Annual Change (%)')\n",
    "plt.title('Growth Economy Annual Change by Zip Code')"
   ]
  },
  {
   "attachments": {},
   "cell_type": "markdown",
   "id": "0d07ae54",
   "metadata": {},
   "source": [
    "## 3 - Outliers Investigation"
   ]
  },
  {
   "cell_type": "code",
   "execution_count": 15,
   "id": "a2c1a52e",
   "metadata": {},
   "outputs": [],
   "source": [
    "#RECESSION OUTLIERS\n",
    "Q1 = recession_hpi_by_zip['Annual Change (%)'].quantile(0.25)\n",
    "Q3 = recession_hpi_by_zip['Annual Change (%)'].quantile(0.75)\n",
    "IQR = Q3 - Q1\n",
    "lower_bound = Q1 - 1.5 * IQR\n",
    "upper_bound = Q3 + 1.5 * IQR\n",
    "\n",
    "# save out the outliers\n",
    "recession_upper_outliers = recession_hpi_by_zip[(recession_hpi_by_zip['Annual Change (%)'] > upper_bound)]\n",
    "recession_lower_outliers = recession_hpi_by_zip[(recession_hpi_by_zip['Annual Change (%)'] < lower_bound)]"
   ]
  },
  {
   "cell_type": "code",
   "execution_count": 16,
   "id": "ae38bd33",
   "metadata": {},
   "outputs": [
    {
     "name": "stdout",
     "output_type": "stream",
     "text": [
      "3.0900000000000003\n"
     ]
    }
   ],
   "source": [
    "print(IQR)"
   ]
  },
  {
   "cell_type": "code",
   "execution_count": 28,
   "id": "42b81faa",
   "metadata": {},
   "outputs": [
    {
     "data": {
      "image/png": "[encoded data removed]",
      "text/plain": [
       "<Figure size 640x480 with 1 Axes>"
      ]
     },
     "metadata": {},
     "output_type": "display_data"
    }
   ],
   "source": [
    "recession = recession_hpi_by_zip['Annual Change (%)']\n",
    "plt.boxplot(recession)\n",
    "plt.ylabel(\"% Annual Change\")\n",
    "plt.title(\"HPI Annual Change (%) in a Shrinking Economy (Recession)\")\n",
    "plt.show()"
   ]
  },
  {
   "attachments": {},
   "cell_type": "markdown",
   "id": "40e24ccc",
   "metadata": {},
   "source": [
    "The boxplot of % annual change in recession versus no recession years look very different. In a recession, we see many more zipcodes with reductions in HPI. There are many outliers on both the positive and negative change ends, and there are so many outliers compared to the actual box plot. "
   ]
  },
  {
   "cell_type": "code",
   "execution_count": 17,
   "id": "e69a8d19",
   "metadata": {},
   "outputs": [],
   "source": [
    "# NO RECESSION OUTLIERS\n",
    "Q1 = no_recession_hpi_by_zip['Annual Change (%)'].quantile(0.25)\n",
    "Q3 = no_recession_hpi_by_zip['Annual Change (%)'].quantile(0.75)\n",
    "IQR = Q3 - Q1\n",
    "lower_bound = Q1 - 1.5 * IQR\n",
    "upper_bound = Q3 + 1.5 * IQR\n",
    "\n",
    "# save out the outliers\n",
    "no_recession_upper_outliers = no_recession_hpi_by_zip[(no_recession_hpi_by_zip['Annual Change (%)'] > upper_bound)]\n",
    "no_recession_lower_outliers = no_recession_hpi_by_zip[(no_recession_hpi_by_zip['Annual Change (%)'] < lower_bound)]"
   ]
  },
  {
   "cell_type": "code",
   "execution_count": 18,
   "id": "2d653684",
   "metadata": {},
   "outputs": [
    {
     "name": "stdout",
     "output_type": "stream",
     "text": [
      "2.300240244954287\n"
     ]
    }
   ],
   "source": [
    "print(IQR)"
   ]
  },
  {
   "cell_type": "code",
   "execution_count": 27,
   "id": "b32ea8a8",
   "metadata": {},
   "outputs": [
    {
     "data": {
      "image/png": "[encoded data removed]",
      "text/plain": [
       "<Figure size 640x480 with 1 Axes>"
      ]
     },
     "metadata": {},
     "output_type": "display_data"
    }
   ],
   "source": [
    "no_recession = no_recession_hpi_by_zip['Annual Change (%)']\n",
    "plt.boxplot(no_recession)\n",
    "plt.ylabel(\"% Annual Change\")\n",
    "plt.title(\"HPI Annual Change (%) in a Growing Economy (No Recession)\")\n",
    "plt.show()\n"
   ]
  },
  {
   "attachments": {},
   "cell_type": "markdown",
   "id": "88b10f0d",
   "metadata": {},
   "source": [
    "In years of no recession, or whenthe economy is growing, we see many more homes on the positive % change side of things. The negative changes are not as negative compared to recession years, and we see a noticable overall increase in HPI change in this boxplot. In years without a recession, HPI change goes up much more in most zip codes compared to a recession."
   ]
  },
  {
   "cell_type": "code",
   "execution_count": 19,
   "id": "d54881bb",
   "metadata": {},
   "outputs": [
    {
     "data": {
      "text/html": [
       "<div>\n",
       "<style scoped>\n",
       "    .dataframe tbody tr th:only-of-type {\n",
       "        vertical-align: middle;\n",
       "    }\n",
       "\n",
       "    .dataframe tbody tr th {\n",
       "        vertical-align: top;\n",
       "    }\n",
       "\n",
       "    .dataframe thead th {\n",
       "        text-align: right;\n",
       "    }\n",
       "</style>\n",
       "<table border=\"1\" class=\"dataframe\">\n",
       "  <thead>\n",
       "    <tr style=\"text-align: right;\">\n",
       "      <th></th>\n",
       "      <th>zip_code</th>\n",
       "      <th>Annual Change (%)</th>\n",
       "    </tr>\n",
       "  </thead>\n",
       "  <tbody>\n",
       "    <tr>\n",
       "      <th>1260</th>\n",
       "      <td>10922</td>\n",
       "      <td>24.92000</td>\n",
       "    </tr>\n",
       "    <tr>\n",
       "      <th>670</th>\n",
       "      <td>3846</td>\n",
       "      <td>22.39000</td>\n",
       "    </tr>\n",
       "    <tr>\n",
       "      <th>5884</th>\n",
       "      <td>43840</td>\n",
       "      <td>22.27000</td>\n",
       "    </tr>\n",
       "    <tr>\n",
       "      <th>7657</th>\n",
       "      <td>55087</td>\n",
       "      <td>19.28000</td>\n",
       "    </tr>\n",
       "    <tr>\n",
       "      <th>8787</th>\n",
       "      <td>64167</td>\n",
       "      <td>19.26000</td>\n",
       "    </tr>\n",
       "    <tr>\n",
       "      <th>...</th>\n",
       "      <td>...</td>\n",
       "      <td>...</td>\n",
       "    </tr>\n",
       "    <tr>\n",
       "      <th>12685</th>\n",
       "      <td>98103</td>\n",
       "      <td>7.33750</td>\n",
       "    </tr>\n",
       "    <tr>\n",
       "      <th>12335</th>\n",
       "      <td>96744</td>\n",
       "      <td>7.33750</td>\n",
       "    </tr>\n",
       "    <tr>\n",
       "      <th>12628</th>\n",
       "      <td>97913</td>\n",
       "      <td>7.32800</td>\n",
       "    </tr>\n",
       "    <tr>\n",
       "      <th>12487</th>\n",
       "      <td>97333</td>\n",
       "      <td>7.32750</td>\n",
       "    </tr>\n",
       "    <tr>\n",
       "      <th>12695</th>\n",
       "      <td>98117</td>\n",
       "      <td>7.31625</td>\n",
       "    </tr>\n",
       "  </tbody>\n",
       "</table>\n",
       "<p>150 rows × 2 columns</p>\n",
       "</div>"
      ],
      "text/plain": [
       "       zip_code  Annual Change (%)\n",
       "1260      10922           24.92000\n",
       "670        3846           22.39000\n",
       "5884      43840           22.27000\n",
       "7657      55087           19.28000\n",
       "8787      64167           19.26000\n",
       "...         ...                ...\n",
       "12685     98103            7.33750\n",
       "12335     96744            7.33750\n",
       "12628     97913            7.32800\n",
       "12487     97333            7.32750\n",
       "12695     98117            7.31625\n",
       "\n",
       "[150 rows x 2 columns]"
      ]
     },
     "execution_count": 19,
     "metadata": {},
     "output_type": "execute_result"
    }
   ],
   "source": [
    "recession_upper_outliers.sort_values('Annual Change (%)', ascending=False)"
   ]
  },
  {
   "cell_type": "code",
   "execution_count": 20,
   "id": "1ebba460",
   "metadata": {},
   "outputs": [
    {
     "data": {
      "text/html": [
       "<div>\n",
       "<style scoped>\n",
       "    .dataframe tbody tr th:only-of-type {\n",
       "        vertical-align: middle;\n",
       "    }\n",
       "\n",
       "    .dataframe tbody tr th {\n",
       "        vertical-align: top;\n",
       "    }\n",
       "\n",
       "    .dataframe thead th {\n",
       "        text-align: right;\n",
       "    }\n",
       "</style>\n",
       "<table border=\"1\" class=\"dataframe\">\n",
       "  <thead>\n",
       "    <tr style=\"text-align: right;\">\n",
       "      <th></th>\n",
       "      <th>zip_code</th>\n",
       "      <th>Annual Change (%)</th>\n",
       "    </tr>\n",
       "  </thead>\n",
       "  <tbody>\n",
       "    <tr>\n",
       "      <th>6327</th>\n",
       "      <td>45346</td>\n",
       "      <td>-25.6400</td>\n",
       "    </tr>\n",
       "    <tr>\n",
       "      <th>3100</th>\n",
       "      <td>22125</td>\n",
       "      <td>-24.1500</td>\n",
       "    </tr>\n",
       "    <tr>\n",
       "      <th>12112</th>\n",
       "      <td>95365</td>\n",
       "      <td>-22.7350</td>\n",
       "    </tr>\n",
       "    <tr>\n",
       "      <th>11466</th>\n",
       "      <td>92230</td>\n",
       "      <td>-20.3275</td>\n",
       "    </tr>\n",
       "    <tr>\n",
       "      <th>8696</th>\n",
       "      <td>63785</td>\n",
       "      <td>-18.7800</td>\n",
       "    </tr>\n",
       "    <tr>\n",
       "      <th>...</th>\n",
       "      <td>...</td>\n",
       "      <td>...</td>\n",
       "    </tr>\n",
       "    <tr>\n",
       "      <th>4225</th>\n",
       "      <td>32113</td>\n",
       "      <td>-5.0875</td>\n",
       "    </tr>\n",
       "    <tr>\n",
       "      <th>4641</th>\n",
       "      <td>33543</td>\n",
       "      <td>-5.0860</td>\n",
       "    </tr>\n",
       "    <tr>\n",
       "      <th>11847</th>\n",
       "      <td>94020</td>\n",
       "      <td>-5.0860</td>\n",
       "    </tr>\n",
       "    <tr>\n",
       "      <th>2878</th>\n",
       "      <td>20880</td>\n",
       "      <td>-5.0720</td>\n",
       "    </tr>\n",
       "    <tr>\n",
       "      <th>12192</th>\n",
       "      <td>95635</td>\n",
       "      <td>-5.0700</td>\n",
       "    </tr>\n",
       "  </tbody>\n",
       "</table>\n",
       "<p>359 rows × 2 columns</p>\n",
       "</div>"
      ],
      "text/plain": [
       "       zip_code  Annual Change (%)\n",
       "6327      45346           -25.6400\n",
       "3100      22125           -24.1500\n",
       "12112     95365           -22.7350\n",
       "11466     92230           -20.3275\n",
       "8696      63785           -18.7800\n",
       "...         ...                ...\n",
       "4225      32113            -5.0875\n",
       "4641      33543            -5.0860\n",
       "11847     94020            -5.0860\n",
       "2878      20880            -5.0720\n",
       "12192     95635            -5.0700\n",
       "\n",
       "[359 rows x 2 columns]"
      ]
     },
     "execution_count": 20,
     "metadata": {},
     "output_type": "execute_result"
    }
   ],
   "source": [
    "recession_lower_outliers.sort_values('Annual Change (%)', ascending=True)"
   ]
  },
  {
   "cell_type": "code",
   "execution_count": 21,
   "id": "4c7f582c",
   "metadata": {},
   "outputs": [
    {
     "data": {
      "text/html": [
       "<div>\n",
       "<style scoped>\n",
       "    .dataframe tbody tr th:only-of-type {\n",
       "        vertical-align: middle;\n",
       "    }\n",
       "\n",
       "    .dataframe tbody tr th {\n",
       "        vertical-align: top;\n",
       "    }\n",
       "\n",
       "    .dataframe thead th {\n",
       "        text-align: right;\n",
       "    }\n",
       "</style>\n",
       "<table border=\"1\" class=\"dataframe\">\n",
       "  <thead>\n",
       "    <tr style=\"text-align: right;\">\n",
       "      <th></th>\n",
       "      <th>zip_code</th>\n",
       "      <th>Annual Change (%)</th>\n",
       "    </tr>\n",
       "  </thead>\n",
       "  <tbody>\n",
       "    <tr>\n",
       "      <th>4511</th>\n",
       "      <td>33136</td>\n",
       "      <td>19.754000</td>\n",
       "    </tr>\n",
       "    <tr>\n",
       "      <th>12134</th>\n",
       "      <td>95365</td>\n",
       "      <td>17.060000</td>\n",
       "    </tr>\n",
       "    <tr>\n",
       "      <th>12127</th>\n",
       "      <td>95333</td>\n",
       "      <td>17.010909</td>\n",
       "    </tr>\n",
       "    <tr>\n",
       "      <th>11500</th>\n",
       "      <td>92268</td>\n",
       "      <td>16.690833</td>\n",
       "    </tr>\n",
       "    <tr>\n",
       "      <th>12180</th>\n",
       "      <td>95466</td>\n",
       "      <td>16.342500</td>\n",
       "    </tr>\n",
       "    <tr>\n",
       "      <th>...</th>\n",
       "      <td>...</td>\n",
       "      <td>...</td>\n",
       "    </tr>\n",
       "    <tr>\n",
       "      <th>10474</th>\n",
       "      <td>80623</td>\n",
       "      <td>9.580000</td>\n",
       "    </tr>\n",
       "    <tr>\n",
       "      <th>4900</th>\n",
       "      <td>34753</td>\n",
       "      <td>9.578824</td>\n",
       "    </tr>\n",
       "    <tr>\n",
       "      <th>11996</th>\n",
       "      <td>94612</td>\n",
       "      <td>9.554375</td>\n",
       "    </tr>\n",
       "    <tr>\n",
       "      <th>12102</th>\n",
       "      <td>95205</td>\n",
       "      <td>9.540000</td>\n",
       "    </tr>\n",
       "    <tr>\n",
       "      <th>4449</th>\n",
       "      <td>32948</td>\n",
       "      <td>9.535294</td>\n",
       "    </tr>\n",
       "  </tbody>\n",
       "</table>\n",
       "<p>137 rows × 2 columns</p>\n",
       "</div>"
      ],
      "text/plain": [
       "       zip_code  Annual Change (%)\n",
       "4511      33136          19.754000\n",
       "12134     95365          17.060000\n",
       "12127     95333          17.010909\n",
       "11500     92268          16.690833\n",
       "12180     95466          16.342500\n",
       "...         ...                ...\n",
       "10474     80623           9.580000\n",
       "4900      34753           9.578824\n",
       "11996     94612           9.554375\n",
       "12102     95205           9.540000\n",
       "4449      32948           9.535294\n",
       "\n",
       "[137 rows x 2 columns]"
      ]
     },
     "execution_count": 21,
     "metadata": {},
     "output_type": "execute_result"
    }
   ],
   "source": [
    "no_recession_upper_outliers.sort_values('Annual Change (%)', ascending=False)"
   ]
  },
  {
   "cell_type": "code",
   "execution_count": 22,
   "id": "23e4da81",
   "metadata": {},
   "outputs": [
    {
     "data": {
      "text/html": [
       "<div>\n",
       "<style scoped>\n",
       "    .dataframe tbody tr th:only-of-type {\n",
       "        vertical-align: middle;\n",
       "    }\n",
       "\n",
       "    .dataframe tbody tr th {\n",
       "        vertical-align: top;\n",
       "    }\n",
       "\n",
       "    .dataframe thead th {\n",
       "        text-align: right;\n",
       "    }\n",
       "</style>\n",
       "<table border=\"1\" class=\"dataframe\">\n",
       "  <thead>\n",
       "    <tr style=\"text-align: right;\">\n",
       "      <th></th>\n",
       "      <th>zip_code</th>\n",
       "      <th>Annual Change (%)</th>\n",
       "    </tr>\n",
       "  </thead>\n",
       "  <tbody>\n",
       "    <tr>\n",
       "      <th>3021</th>\n",
       "      <td>21665</td>\n",
       "      <td>-2.990000</td>\n",
       "    </tr>\n",
       "    <tr>\n",
       "      <th>11166</th>\n",
       "      <td>90212</td>\n",
       "      <td>-2.932000</td>\n",
       "    </tr>\n",
       "    <tr>\n",
       "      <th>5618</th>\n",
       "      <td>41002</td>\n",
       "      <td>-2.758000</td>\n",
       "    </tr>\n",
       "    <tr>\n",
       "      <th>7571</th>\n",
       "      <td>54232</td>\n",
       "      <td>-2.319091</td>\n",
       "    </tr>\n",
       "    <tr>\n",
       "      <th>6728</th>\n",
       "      <td>47456</td>\n",
       "      <td>-2.278182</td>\n",
       "    </tr>\n",
       "    <tr>\n",
       "      <th>7527</th>\n",
       "      <td>53937</td>\n",
       "      <td>-1.865000</td>\n",
       "    </tr>\n",
       "    <tr>\n",
       "      <th>8047</th>\n",
       "      <td>60029</td>\n",
       "      <td>-1.648889</td>\n",
       "    </tr>\n",
       "    <tr>\n",
       "      <th>10417</th>\n",
       "      <td>80428</td>\n",
       "      <td>-1.620000</td>\n",
       "    </tr>\n",
       "    <tr>\n",
       "      <th>738</th>\n",
       "      <td>5261</td>\n",
       "      <td>-1.490000</td>\n",
       "    </tr>\n",
       "    <tr>\n",
       "      <th>8904</th>\n",
       "      <td>66075</td>\n",
       "      <td>-1.483333</td>\n",
       "    </tr>\n",
       "    <tr>\n",
       "      <th>8429</th>\n",
       "      <td>61261</td>\n",
       "      <td>-1.476667</td>\n",
       "    </tr>\n",
       "    <tr>\n",
       "      <th>718</th>\n",
       "      <td>5059</td>\n",
       "      <td>-1.428750</td>\n",
       "    </tr>\n",
       "    <tr>\n",
       "      <th>6773</th>\n",
       "      <td>47922</td>\n",
       "      <td>-1.386667</td>\n",
       "    </tr>\n",
       "    <tr>\n",
       "      <th>6725</th>\n",
       "      <td>47436</td>\n",
       "      <td>-1.298000</td>\n",
       "    </tr>\n",
       "    <tr>\n",
       "      <th>9036</th>\n",
       "      <td>67561</td>\n",
       "      <td>-1.233846</td>\n",
       "    </tr>\n",
       "    <tr>\n",
       "      <th>6106</th>\n",
       "      <td>44502</td>\n",
       "      <td>-1.175000</td>\n",
       "    </tr>\n",
       "    <tr>\n",
       "      <th>8474</th>\n",
       "      <td>61415</td>\n",
       "      <td>-1.168889</td>\n",
       "    </tr>\n",
       "    <tr>\n",
       "      <th>6688</th>\n",
       "      <td>47264</td>\n",
       "      <td>-1.068750</td>\n",
       "    </tr>\n",
       "    <tr>\n",
       "      <th>3389</th>\n",
       "      <td>24641</td>\n",
       "      <td>-1.023636</td>\n",
       "    </tr>\n",
       "    <tr>\n",
       "      <th>1491</th>\n",
       "      <td>12156</td>\n",
       "      <td>-1.016667</td>\n",
       "    </tr>\n",
       "    <tr>\n",
       "      <th>8675</th>\n",
       "      <td>62910</td>\n",
       "      <td>-0.954286</td>\n",
       "    </tr>\n",
       "    <tr>\n",
       "      <th>6095</th>\n",
       "      <td>44454</td>\n",
       "      <td>-0.911111</td>\n",
       "    </tr>\n",
       "    <tr>\n",
       "      <th>8641</th>\n",
       "      <td>62621</td>\n",
       "      <td>-0.893333</td>\n",
       "    </tr>\n",
       "    <tr>\n",
       "      <th>6247</th>\n",
       "      <td>45146</td>\n",
       "      <td>-0.821250</td>\n",
       "    </tr>\n",
       "    <tr>\n",
       "      <th>3709</th>\n",
       "      <td>28774</td>\n",
       "      <td>-0.788750</td>\n",
       "    </tr>\n",
       "    <tr>\n",
       "      <th>7301</th>\n",
       "      <td>49831</td>\n",
       "      <td>-0.731429</td>\n",
       "    </tr>\n",
       "    <tr>\n",
       "      <th>3641</th>\n",
       "      <td>28544</td>\n",
       "      <td>-0.647143</td>\n",
       "    </tr>\n",
       "    <tr>\n",
       "      <th>5908</th>\n",
       "      <td>43977</td>\n",
       "      <td>-0.572500</td>\n",
       "    </tr>\n",
       "    <tr>\n",
       "      <th>5213</th>\n",
       "      <td>36611</td>\n",
       "      <td>-0.412941</td>\n",
       "    </tr>\n",
       "    <tr>\n",
       "      <th>2445</th>\n",
       "      <td>18923</td>\n",
       "      <td>-0.385000</td>\n",
       "    </tr>\n",
       "    <tr>\n",
       "      <th>3745</th>\n",
       "      <td>29353</td>\n",
       "      <td>-0.383333</td>\n",
       "    </tr>\n",
       "    <tr>\n",
       "      <th>6476</th>\n",
       "      <td>46117</td>\n",
       "      <td>-0.258750</td>\n",
       "    </tr>\n",
       "    <tr>\n",
       "      <th>6675</th>\n",
       "      <td>47227</td>\n",
       "      <td>-0.248333</td>\n",
       "    </tr>\n",
       "    <tr>\n",
       "      <th>5957</th>\n",
       "      <td>44093</td>\n",
       "      <td>-0.241667</td>\n",
       "    </tr>\n",
       "    <tr>\n",
       "      <th>8453</th>\n",
       "      <td>61349</td>\n",
       "      <td>-0.076250</td>\n",
       "    </tr>\n",
       "    <tr>\n",
       "      <th>1609</th>\n",
       "      <td>12887</td>\n",
       "      <td>-0.015556</td>\n",
       "    </tr>\n",
       "    <tr>\n",
       "      <th>8516</th>\n",
       "      <td>61572</td>\n",
       "      <td>-0.010000</td>\n",
       "    </tr>\n",
       "    <tr>\n",
       "      <th>8615</th>\n",
       "      <td>62515</td>\n",
       "      <td>0.002000</td>\n",
       "    </tr>\n",
       "    <tr>\n",
       "      <th>8510</th>\n",
       "      <td>61560</td>\n",
       "      <td>0.075000</td>\n",
       "    </tr>\n",
       "    <tr>\n",
       "      <th>8468</th>\n",
       "      <td>61377</td>\n",
       "      <td>0.090000</td>\n",
       "    </tr>\n",
       "    <tr>\n",
       "      <th>3605</th>\n",
       "      <td>28371</td>\n",
       "      <td>0.106667</td>\n",
       "    </tr>\n",
       "    <tr>\n",
       "      <th>6956</th>\n",
       "      <td>48440</td>\n",
       "      <td>0.110000</td>\n",
       "    </tr>\n",
       "    <tr>\n",
       "      <th>6235</th>\n",
       "      <td>45101</td>\n",
       "      <td>0.128182</td>\n",
       "    </tr>\n",
       "    <tr>\n",
       "      <th>649</th>\n",
       "      <td>3777</td>\n",
       "      <td>0.178750</td>\n",
       "    </tr>\n",
       "    <tr>\n",
       "      <th>5785</th>\n",
       "      <td>43333</td>\n",
       "      <td>0.181667</td>\n",
       "    </tr>\n",
       "    <tr>\n",
       "      <th>3645</th>\n",
       "      <td>28556</td>\n",
       "      <td>0.232000</td>\n",
       "    </tr>\n",
       "    <tr>\n",
       "      <th>3664</th>\n",
       "      <td>28636</td>\n",
       "      <td>0.274000</td>\n",
       "    </tr>\n",
       "  </tbody>\n",
       "</table>\n",
       "</div>"
      ],
      "text/plain": [
       "       zip_code  Annual Change (%)\n",
       "3021      21665          -2.990000\n",
       "11166     90212          -2.932000\n",
       "5618      41002          -2.758000\n",
       "7571      54232          -2.319091\n",
       "6728      47456          -2.278182\n",
       "7527      53937          -1.865000\n",
       "8047      60029          -1.648889\n",
       "10417     80428          -1.620000\n",
       "738        5261          -1.490000\n",
       "8904      66075          -1.483333\n",
       "8429      61261          -1.476667\n",
       "718        5059          -1.428750\n",
       "6773      47922          -1.386667\n",
       "6725      47436          -1.298000\n",
       "9036      67561          -1.233846\n",
       "6106      44502          -1.175000\n",
       "8474      61415          -1.168889\n",
       "6688      47264          -1.068750\n",
       "3389      24641          -1.023636\n",
       "1491      12156          -1.016667\n",
       "8675      62910          -0.954286\n",
       "6095      44454          -0.911111\n",
       "8641      62621          -0.893333\n",
       "6247      45146          -0.821250\n",
       "3709      28774          -0.788750\n",
       "7301      49831          -0.731429\n",
       "3641      28544          -0.647143\n",
       "5908      43977          -0.572500\n",
       "5213      36611          -0.412941\n",
       "2445      18923          -0.385000\n",
       "3745      29353          -0.383333\n",
       "6476      46117          -0.258750\n",
       "6675      47227          -0.248333\n",
       "5957      44093          -0.241667\n",
       "8453      61349          -0.076250\n",
       "1609      12887          -0.015556\n",
       "8516      61572          -0.010000\n",
       "8615      62515           0.002000\n",
       "8510      61560           0.075000\n",
       "8468      61377           0.090000\n",
       "3605      28371           0.106667\n",
       "6956      48440           0.110000\n",
       "6235      45101           0.128182\n",
       "649        3777           0.178750\n",
       "5785      43333           0.181667\n",
       "3645      28556           0.232000\n",
       "3664      28636           0.274000"
      ]
     },
     "execution_count": 22,
     "metadata": {},
     "output_type": "execute_result"
    }
   ],
   "source": [
    "no_recession_lower_outliers.sort_values('Annual Change (%)', ascending=True)"
   ]
  },
  {
   "cell_type": "code",
   "execution_count": 105,
   "id": "e9d7591c",
   "metadata": {},
   "outputs": [],
   "source": [
    "recession_lower_outliers.to_csv('data/cleaned data/recession_lower_outliers.csv')\n",
    "recession_upper_outliers.to_csv('data/cleaned data/recession_upper_outliers.csv')\n",
    "no_recession_lower_outliers.to_csv('data/cleaned data/no_recession_lower_outliers.csv')\n",
    "no_recession_upper_outliers.to_csv('data/cleaned data/no_recession_upper_outliers.csv')"
   ]
  }
 ],
 "metadata": {
  "kernelspec": {
   "display_name": "base",
   "language": "python",
   "name": "python3"
  },
  "language_info": {
   "codemirror_mode": {
    "name": "ipython",
    "version": 3
   },
   "file_extension": ".py",
   "mimetype": "text/x-python",
   "name": "python",
   "nbconvert_exporter": "python",
   "pygments_lexer": "ipython3",
   "version": "3.9.13"
  }
 },
 "nbformat": 4,
 "nbformat_minor": 5
}
