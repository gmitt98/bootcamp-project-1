{
 "cells": [
  {
   "cell_type": "markdown",
   "metadata": {},
   "source": [
    "# annual_outliers_py\n",
    "\n",
    "---\n",
    "\n",
    "## Determine growth and decline outliers for hpi change over time for each year individually"
   ]
  },
  {
   "cell_type": "code",
   "execution_count": 6,
   "metadata": {
    "scrolled": true
   },
   "outputs": [
    {
     "data": {
      "text/html": [
       "<div>\n",
       "<style scoped>\n",
       "    .dataframe tbody tr th:only-of-type {\n",
       "        vertical-align: middle;\n",
       "    }\n",
       "\n",
       "    .dataframe tbody tr th {\n",
       "        vertical-align: top;\n",
       "    }\n",
       "\n",
       "    .dataframe thead th {\n",
       "        text-align: right;\n",
       "    }\n",
       "</style>\n",
       "<table border=\"1\" class=\"dataframe\">\n",
       "  <thead>\n",
       "    <tr style=\"text-align: right;\">\n",
       "      <th></th>\n",
       "      <th>Five-Digit ZIP Code</th>\n",
       "      <th>Year</th>\n",
       "      <th>Annual Change (%)</th>\n",
       "      <th>HPI</th>\n",
       "      <th>HPI from 2012</th>\n",
       "      <th>HPI with 2012 base</th>\n",
       "      <th>normalized_sale_price</th>\n",
       "      <th>zip_code</th>\n",
       "      <th>normalized_sale_price_2012</th>\n",
       "      <th>result</th>\n",
       "    </tr>\n",
       "  </thead>\n",
       "  <tbody>\n",
       "    <tr>\n",
       "      <th>0</th>\n",
       "      <td>1001.0</td>\n",
       "      <td>1984</td>\n",
       "      <td>.</td>\n",
       "      <td>100.00</td>\n",
       "      <td>279.95</td>\n",
       "      <td>0.357207</td>\n",
       "      <td>58369.688570</td>\n",
       "      <td>1001.0</td>\n",
       "      <td>163405.943152</td>\n",
       "      <td>58369.688570</td>\n",
       "    </tr>\n",
       "    <tr>\n",
       "      <th>1</th>\n",
       "      <td>1001.0</td>\n",
       "      <td>1985</td>\n",
       "      <td>16.00</td>\n",
       "      <td>116.00</td>\n",
       "      <td>279.95</td>\n",
       "      <td>0.414360</td>\n",
       "      <td>67708.838742</td>\n",
       "      <td>1001.0</td>\n",
       "      <td>163405.943152</td>\n",
       "      <td>67708.838742</td>\n",
       "    </tr>\n",
       "    <tr>\n",
       "      <th>2</th>\n",
       "      <td>1001.0</td>\n",
       "      <td>1986</td>\n",
       "      <td>14.21</td>\n",
       "      <td>132.48</td>\n",
       "      <td>279.95</td>\n",
       "      <td>0.473227</td>\n",
       "      <td>77328.163418</td>\n",
       "      <td>1001.0</td>\n",
       "      <td>163405.943152</td>\n",
       "      <td>77328.163418</td>\n",
       "    </tr>\n",
       "    <tr>\n",
       "      <th>3</th>\n",
       "      <td>1001.0</td>\n",
       "      <td>1987</td>\n",
       "      <td>21.08</td>\n",
       "      <td>160.41</td>\n",
       "      <td>279.95</td>\n",
       "      <td>0.572995</td>\n",
       "      <td>93630.817436</td>\n",
       "      <td>1001.0</td>\n",
       "      <td>163405.943152</td>\n",
       "      <td>93630.817436</td>\n",
       "    </tr>\n",
       "    <tr>\n",
       "      <th>4</th>\n",
       "      <td>1001.0</td>\n",
       "      <td>1988</td>\n",
       "      <td>17.63</td>\n",
       "      <td>188.68</td>\n",
       "      <td>279.95</td>\n",
       "      <td>0.673977</td>\n",
       "      <td>110131.928394</td>\n",
       "      <td>1001.0</td>\n",
       "      <td>163405.943152</td>\n",
       "      <td>110131.928394</td>\n",
       "    </tr>\n",
       "  </tbody>\n",
       "</table>\n",
       "</div>"
      ],
      "text/plain": [
       "   Five-Digit ZIP Code  Year Annual Change (%)     HPI  HPI from 2012  \\\n",
       "0               1001.0  1984                 .  100.00         279.95   \n",
       "1               1001.0  1985             16.00  116.00         279.95   \n",
       "2               1001.0  1986             14.21  132.48         279.95   \n",
       "3               1001.0  1987             21.08  160.41         279.95   \n",
       "4               1001.0  1988             17.63  188.68         279.95   \n",
       "\n",
       "   HPI with 2012 base  normalized_sale_price  zip_code  \\\n",
       "0            0.357207           58369.688570    1001.0   \n",
       "1            0.414360           67708.838742    1001.0   \n",
       "2            0.473227           77328.163418    1001.0   \n",
       "3            0.572995           93630.817436    1001.0   \n",
       "4            0.673977          110131.928394    1001.0   \n",
       "\n",
       "   normalized_sale_price_2012         result  \n",
       "0               163405.943152   58369.688570  \n",
       "1               163405.943152   67708.838742  \n",
       "2               163405.943152   77328.163418  \n",
       "3               163405.943152   93630.817436  \n",
       "4               163405.943152  110131.928394  "
      ]
     },
     "execution_count": 6,
     "metadata": {},
     "output_type": "execute_result"
    }
   ],
   "source": [
    "# Dependencies and Setup\n",
    "import pandas as pd\n",
    "\n",
    "# Import hpi-over-time data from cleaned file\n",
    "file_path = \"data/cleaned data/cleaned_hpi_price_data.csv\"\n",
    "hpi_df = pd.read_csv(file_path)\n",
    "\n",
    "# Check that data seems to have loaded correctly\n",
    "hpi_df.head()"
   ]
  },
  {
   "cell_type": "markdown",
   "metadata": {},
   "source": [
    "### Inspect the data for some general properties"
   ]
  },
  {
   "cell_type": "code",
   "execution_count": 7,
   "metadata": {},
   "outputs": [
    {
     "name": "stdout",
     "output_type": "stream",
     "text": [
      "There is data for 48 years, from 1975 to 2022, covering 13000 unique zip codes\n",
      "Five-Digit ZIP Code           float64\n",
      "Year                            int64\n",
      "Annual Change (%)              object\n",
      "HPI                           float64\n",
      "HPI from 2012                 float64\n",
      "HPI with 2012 base            float64\n",
      "normalized_sale_price         float64\n",
      "zip_code                      float64\n",
      "normalized_sale_price_2012    float64\n",
      "result                        float64\n",
      "dtype: object\n"
     ]
    }
   ],
   "source": [
    "# Find the most recent year that has data\n",
    "last_year = hpi_df['Year'].max()\n",
    "\n",
    "# Find the oldest year that has data\n",
    "first_year = hpi_df['Year'].min()\n",
    "\n",
    "# Count how many unique years have data\n",
    "year_count = hpi_df['Year'].unique().size\n",
    "\n",
    "# Count how many unique zip codes and collect them into a list for iterating\n",
    "zip_count = hpi_df['zip_code'].unique().size\n",
    "zip_list = hpi_df['zip_code'].unique()\n",
    "\n",
    "# Display some information that has been inspected\n",
    "print(f\"There is data for {year_count} years, from {first_year} to {last_year}, covering {zip_count} unique zip codes\")\n",
    "\n",
    "print(hpi_df.dtypes)\n",
    "\n",
    "# NOTE:  Different zip codes have different years available"
   ]
  },
  {
   "cell_type": "code",
   "execution_count": 8,
   "metadata": {},
   "outputs": [
    {
     "name": "stderr",
     "output_type": "stream",
     "text": [
      "C:\\Users\\craig\\AppData\\Local\\Temp\\ipykernel_20916\\3897581338.py:5: SettingWithCopyWarning: \n",
      "A value is trying to be set on a copy of a slice from a DataFrame.\n",
      "Try using .loc[row_indexer,col_indexer] = value instead\n",
      "\n",
      "See the caveats in the documentation: https://pandas.pydata.org/pandas-docs/stable/user_guide/indexing.html#returning-a-view-versus-a-copy\n",
      "  annual_growth_df['Annual Change (%)'] = annual_growth_df['Annual Change (%)'].astype(float)\n"
     ]
    },
    {
     "data": {
      "text/plain": [
       "Five-Digit ZIP Code           float64\n",
       "Year                            int64\n",
       "Annual Change (%)             float64\n",
       "HPI                           float64\n",
       "HPI from 2012                 float64\n",
       "HPI with 2012 base            float64\n",
       "normalized_sale_price         float64\n",
       "zip_code                      float64\n",
       "normalized_sale_price_2012    float64\n",
       "result                        float64\n",
       "dtype: object"
      ]
     },
     "execution_count": 8,
     "metadata": {},
     "output_type": "execute_result"
    }
   ],
   "source": [
    "# Create a new dataframe that removes rows with no Annual Change value\n",
    "annual_growth_df = hpi_df.loc[hpi_df['Annual Change (%)'] != '.']\n",
    "\n",
    "# Change Annual Change (%) into a number for doing math operations\n",
    "annual_growth_df['Annual Change (%)'] = annual_growth_df['Annual Change (%)'].astype(float)\n",
    "\n",
    "# Sort the dataframe by year ascending so calculated results will tabulate in an intuitive way\n",
    "annual_growth_df = annual_growth_df.sort_values(by=['Year'], ascending=True)\n",
    "\n",
    "# Check that the data type change was successful\n",
    "annual_growth_df.dtypes"
   ]
  },
  {
   "cell_type": "markdown",
   "metadata": {},
   "source": [
    "---"
   ]
  },
  {
   "cell_type": "markdown",
   "metadata": {},
   "source": [
    "## Determine growth and decline outliers for each year individually"
   ]
  },
  {
   "cell_type": "code",
   "execution_count": 9,
   "metadata": {},
   "outputs": [
    {
     "name": "stdout",
     "output_type": "stream",
     "text": [
      "           1976  1977  1978  1979  1980  1981  1982  1983  1984  1985  ...  \\\n",
      "155792  33156.0   NaN   NaN   NaN   NaN   NaN   NaN   NaN   NaN   NaN  ...   \n",
      "389923  91301.0   NaN   NaN   NaN   NaN   NaN   NaN   NaN   NaN   NaN  ...   \n",
      "170785  34982.0   NaN   NaN   NaN   NaN   NaN   NaN   NaN   NaN   NaN  ...   \n",
      "423155  95070.0   NaN   NaN   NaN   NaN   NaN   NaN   NaN   NaN   NaN  ...   \n",
      "333135  75243.0   NaN   NaN   NaN   NaN   NaN   NaN   NaN   NaN   NaN  ...   \n",
      "\n",
      "        2013  2014  2015  2016  2017  2018  2019  2020  2021  2022  \n",
      "155792   NaN   NaN   NaN   NaN   NaN   NaN   NaN   NaN   NaN   NaN  \n",
      "389923   NaN   NaN   NaN   NaN   NaN   NaN   NaN   NaN   NaN   NaN  \n",
      "170785   NaN   NaN   NaN   NaN   NaN   NaN   NaN   NaN   NaN   NaN  \n",
      "423155   NaN   NaN   NaN   NaN   NaN   NaN   NaN   NaN   NaN   NaN  \n",
      "333135   NaN   NaN   NaN   NaN   NaN   NaN   NaN   NaN   NaN   NaN  \n",
      "\n",
      "[5 rows x 47 columns]\n",
      "         1976  1977  1978  1979  1980  1981  1982  1983  1984  1985  ...  \\\n",
      "155792 -10.70   NaN   NaN   NaN   NaN   NaN   NaN   NaN   NaN   NaN  ...   \n",
      "389923  35.86   NaN   NaN   NaN   NaN   NaN   NaN   NaN   NaN   NaN  ...   \n",
      "170785 -20.73   NaN   NaN   NaN   NaN   NaN   NaN   NaN   NaN   NaN  ...   \n",
      "423155  32.25   NaN   NaN   NaN   NaN   NaN   NaN   NaN   NaN   NaN  ...   \n",
      "333135 -15.58   NaN   NaN   NaN   NaN   NaN   NaN   NaN   NaN   NaN  ...   \n",
      "\n",
      "        2013  2014  2015  2016  2017  2018  2019  2020  2021  2022  \n",
      "155792   NaN   NaN   NaN   NaN   NaN   NaN   NaN   NaN   NaN   NaN  \n",
      "389923   NaN   NaN   NaN   NaN   NaN   NaN   NaN   NaN   NaN   NaN  \n",
      "170785   NaN   NaN   NaN   NaN   NaN   NaN   NaN   NaN   NaN   NaN  \n",
      "423155   NaN   NaN   NaN   NaN   NaN   NaN   NaN   NaN   NaN   NaN  \n",
      "333135   NaN   NaN   NaN   NaN   NaN   NaN   NaN   NaN   NaN   NaN  \n",
      "\n",
      "[5 rows x 47 columns]\n"
     ]
    }
   ],
   "source": [
    "# Create empty dataframes to store results in\n",
    "annual_outlier_zips_df = pd.DataFrame()\n",
    "annual_outlier_values_df = pd.DataFrame()\n",
    "\n",
    "# Collect the years in the dataframe that contain Annual Change data into a list for iterating\n",
    "years_list = annual_growth_df['Year'].unique()\n",
    "\n",
    "# Iterate through the years and deterimine outliers for that year only\n",
    "for year in years_list:\n",
    "    \n",
    "    # Collect the current year only for each iteration\n",
    "    current_year_df = annual_growth_df.loc[annual_growth_df['Year']==year]\n",
    "    \n",
    "    # Determine outliers using upper and lower bounds for that year and collect their zip codes\n",
    "    quartiles = current_year_df['Annual Change (%)'].quantile([0.25, 0.50, 0.75])\n",
    "    lowerq = quartiles[0.25]\n",
    "    upperq = quartiles[0.75]\n",
    "    iqr = upperq-lowerq\n",
    "    lower_bound = lowerq - (1.5*iqr)\n",
    "    upper_bound = upperq + (1.5*iqr)\n",
    "    \n",
    "    # Collect the zip codes that are outliers\n",
    "    outlier_zips = current_year_df.loc[(current_year_df['Annual Change (%)'] > upper_bound) \n",
    "                                     | (current_year_df['Annual Change (%)'] < lower_bound)]['zip_code']\n",
    "    \n",
    "    # This series ends up with name 'zip_code', but gets changed to the current year for appending to the results dataframe\n",
    "    outlier_zips.name = year\n",
    "    \n",
    "    # Add outlier zip codes to dataframe under the current year\n",
    "    annual_outlier_zips_df = pd.concat([annual_outlier_zips_df, outlier_zips], axis=1)\n",
    "    \n",
    "    # Collect the Annual Change values for the outlying zip codes\n",
    "    outlier_values = current_year_df.loc[(current_year_df['Annual Change (%)'] > upper_bound) \n",
    "                                     | (current_year_df['Annual Change (%)'] < lower_bound)]['Annual Change (%)']\n",
    "    \n",
    "    # This series ends up with name 'zip_code', but gets changed to the current year for appending to the results dataframe\n",
    "    outlier_values.name = year\n",
    "    \n",
    "    # Add outlier values to dataframe under the current year\n",
    "    annual_outlier_values_df = pd.concat([annual_outlier_values_df, outlier_values], axis=1)\n",
    "      \n",
    "# Save the results to a file\n",
    "annual_outlier_zips_df.to_csv('data/analysis/annual_outlier_zips.csv')\n",
    "annual_outlier_values_df.to_csv('data/analysis/annual_outlier_values.csv')\n",
    "\n",
    "# Inspect the results\n",
    "print(annual_outlier_zips_df.head())\n",
    "print(annual_outlier_values_df.head())"
   ]
  },
  {
   "cell_type": "code",
   "execution_count": null,
   "metadata": {},
   "outputs": [],
   "source": []
  }
 ],
 "metadata": {
  "anaconda-cloud": {},
  "kernel_info": {
   "name": "python3"
  },
  "kernelspec": {
   "display_name": "Python 3 (ipykernel)",
   "language": "python",
   "name": "python3"
  },
  "language_info": {
   "codemirror_mode": {
    "name": "ipython",
    "version": 3
   },
   "file_extension": ".py",
   "mimetype": "text/x-python",
   "name": "python",
   "nbconvert_exporter": "python",
   "pygments_lexer": "ipython3",
   "version": "3.9.16"
  },
  "latex_envs": {
   "LaTeX_envs_menu_present": true,
   "autoclose": false,
   "autocomplete": true,
   "bibliofile": "biblio.bib",
   "cite_by": "apalike",
   "current_citInitial": 1,
   "eqLabelWithNumbers": true,
   "eqNumInitial": 1,
   "hotkeys": {
    "equation": "Ctrl-E",
    "itemize": "Ctrl-I"
   },
   "labels_anchors": false,
   "latex_user_defs": false,
   "report_style_numbering": false,
   "user_envs_cfg": false
  },
  "nteract": {
   "version": "0.12.3"
  }
 },
 "nbformat": 4,
 "nbformat_minor": 4
}
