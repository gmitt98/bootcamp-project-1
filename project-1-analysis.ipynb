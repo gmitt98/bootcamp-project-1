{
 "cells": [
  {
   "attachments": {},
   "cell_type": "markdown",
   "metadata": {},
   "source": [
    "### Analysis part 1: interest rates"
   ]
  },
  {
   "cell_type": "code",
   "execution_count": 39,
   "metadata": {},
   "outputs": [],
   "source": [
    "import pandas as pd\n",
    "import numpy as np\n",
    "import sklearn as sk"
   ]
  },
  {
   "cell_type": "code",
   "execution_count": 42,
   "metadata": {},
   "outputs": [],
   "source": [
    "df = pd.read_csv('data/cleaned data/total_market_data_merged.csv')\n",
    "df = df.drop(['Unnamed: 0', \"YEAR_x\", \"YEAR_y\"], axis = 1)"
   ]
  },
  {
   "cell_type": "code",
   "execution_count": 43,
   "metadata": {},
   "outputs": [
    {
     "data": {
      "text/html": [
       "<div>\n",
       "<style scoped>\n",
       "    .dataframe tbody tr th:only-of-type {\n",
       "        vertical-align: middle;\n",
       "    }\n",
       "\n",
       "    .dataframe tbody tr th {\n",
       "        vertical-align: top;\n",
       "    }\n",
       "\n",
       "    .dataframe thead th {\n",
       "        text-align: right;\n",
       "    }\n",
       "</style>\n",
       "<table border=\"1\" class=\"dataframe\">\n",
       "  <thead>\n",
       "    <tr style=\"text-align: right;\">\n",
       "      <th></th>\n",
       "      <th>Five-Digit ZIP Code</th>\n",
       "      <th>Year</th>\n",
       "      <th>Annual Change (%)</th>\n",
       "      <th>HPI</th>\n",
       "      <th>HPI from 2012</th>\n",
       "      <th>HPI with 2012 base</th>\n",
       "      <th>normalized_sale_price</th>\n",
       "      <th>RECESSION_FLAG</th>\n",
       "      <th>avg_rate_for_year</th>\n",
       "    </tr>\n",
       "  </thead>\n",
       "  <tbody>\n",
       "    <tr>\n",
       "      <th>0</th>\n",
       "      <td>1001.0</td>\n",
       "      <td>1984</td>\n",
       "      <td>.</td>\n",
       "      <td>100.00</td>\n",
       "      <td>279.95</td>\n",
       "      <td>0.357207</td>\n",
       "      <td>58369.688570</td>\n",
       "      <td>0</td>\n",
       "      <td>10.225</td>\n",
       "    </tr>\n",
       "    <tr>\n",
       "      <th>1</th>\n",
       "      <td>1002.0</td>\n",
       "      <td>1984</td>\n",
       "      <td>15.40</td>\n",
       "      <td>115.40</td>\n",
       "      <td>348.54</td>\n",
       "      <td>0.331095</td>\n",
       "      <td>91121.681896</td>\n",
       "      <td>0</td>\n",
       "      <td>10.225</td>\n",
       "    </tr>\n",
       "    <tr>\n",
       "      <th>2</th>\n",
       "      <td>1020.0</td>\n",
       "      <td>1984</td>\n",
       "      <td>14.40</td>\n",
       "      <td>114.40</td>\n",
       "      <td>296.68</td>\n",
       "      <td>0.385601</td>\n",
       "      <td>54643.995979</td>\n",
       "      <td>0</td>\n",
       "      <td>10.225</td>\n",
       "    </tr>\n",
       "    <tr>\n",
       "      <th>3</th>\n",
       "      <td>1027.0</td>\n",
       "      <td>1984</td>\n",
       "      <td>24.50</td>\n",
       "      <td>124.50</td>\n",
       "      <td>400.14</td>\n",
       "      <td>0.311141</td>\n",
       "      <td>67051.045930</td>\n",
       "      <td>0</td>\n",
       "      <td>10.225</td>\n",
       "    </tr>\n",
       "    <tr>\n",
       "      <th>4</th>\n",
       "      <td>1028.0</td>\n",
       "      <td>1984</td>\n",
       "      <td>15.12</td>\n",
       "      <td>197.78</td>\n",
       "      <td>537.26</td>\n",
       "      <td>0.368127</td>\n",
       "      <td>82988.087351</td>\n",
       "      <td>0</td>\n",
       "      <td>10.225</td>\n",
       "    </tr>\n",
       "  </tbody>\n",
       "</table>\n",
       "</div>"
      ],
      "text/plain": [
       "   Five-Digit ZIP Code  Year Annual Change (%)     HPI  HPI from 2012  \\\n",
       "0               1001.0  1984                 .  100.00         279.95   \n",
       "1               1002.0  1984             15.40  115.40         348.54   \n",
       "2               1020.0  1984             14.40  114.40         296.68   \n",
       "3               1027.0  1984             24.50  124.50         400.14   \n",
       "4               1028.0  1984             15.12  197.78         537.26   \n",
       "\n",
       "   HPI with 2012 base  normalized_sale_price  RECESSION_FLAG  \\\n",
       "0            0.357207           58369.688570               0   \n",
       "1            0.331095           91121.681896               0   \n",
       "2            0.385601           54643.995979               0   \n",
       "3            0.311141           67051.045930               0   \n",
       "4            0.368127           82988.087351               0   \n",
       "\n",
       "   avg_rate_for_year  \n",
       "0             10.225  \n",
       "1             10.225  \n",
       "2             10.225  \n",
       "3             10.225  \n",
       "4             10.225  "
      ]
     },
     "execution_count": 43,
     "metadata": {},
     "output_type": "execute_result"
    }
   ],
   "source": [
    "df.head()"
   ]
  },
  {
   "attachments": {},
   "cell_type": "markdown",
   "metadata": {},
   "source": [
    "### Part 4/5/bonus: machine learning"
   ]
  },
  {
   "cell_type": "code",
   "execution_count": null,
   "metadata": {},
   "outputs": [],
   "source": [
    "# This is the data I'm going to make an annual change % with: zip code, year, recession flag, avg rate\n",
    "new_data = np.array([[97405, 2023, 0, 5.0],\n",
    "                     [97405, 2024, 0, 5.0],\n",
    "                     [97405, 2025, 0, 5.0]])"
   ]
  },
  {
   "cell_type": "code",
   "execution_count": 83,
   "metadata": {},
   "outputs": [],
   "source": [
    "# create a dataset with no missing annual change values - just drop them\n",
    "\n",
    "dfml = df[df[\"Annual Change (%)\"].notna()]\n",
    "dfml=dfml[~dfml.isin([\".\"]).any(axis=1)]"
   ]
  },
  {
   "cell_type": "code",
   "execution_count": 84,
   "metadata": {},
   "outputs": [],
   "source": [
    "# define my target var\n",
    "mltarget = dfml[\"Annual Change (%)\"]"
   ]
  },
  {
   "cell_type": "code",
   "execution_count": 92,
   "metadata": {},
   "outputs": [
    {
     "name": "stdout",
     "output_type": "stream",
     "text": [
      "Five-Digit ZIP Code    float64\n",
      "Year                     int64\n",
      "RECESSION_FLAG           int64\n",
      "avg_rate_for_year      float64\n",
      "dtype: object\n"
     ]
    },
    {
     "name": "stderr",
     "output_type": "stream",
     "text": [
      "/var/folders/hl/p3c4xh5x4nv00kvc7sckx1040000gn/T/ipykernel_86899/4141417524.py:3: SettingWithCopyWarning: \n",
      "A value is trying to be set on a copy of a slice from a DataFrame.\n",
      "Try using .loc[row_indexer,col_indexer] = value instead\n",
      "\n",
      "See the caveats in the documentation: https://pandas.pydata.org/pandas-docs/stable/user_guide/indexing.html#returning-a-view-versus-a-copy\n",
      "  mlfeatures['Year'] = pd.to_datetime(mlfeatures['Year'], format='%Y')\n",
      "/var/folders/hl/p3c4xh5x4nv00kvc7sckx1040000gn/T/ipykernel_86899/4141417524.py:4: SettingWithCopyWarning: \n",
      "A value is trying to be set on a copy of a slice from a DataFrame.\n",
      "Try using .loc[row_indexer,col_indexer] = value instead\n",
      "\n",
      "See the caveats in the documentation: https://pandas.pydata.org/pandas-docs/stable/user_guide/indexing.html#returning-a-view-versus-a-copy\n",
      "  mlfeatures['Year'] = pd.to_datetime(mlfeatures['Year']).dt.year\n"
     ]
    }
   ],
   "source": [
    "# define my features\n",
    "mlfeatures = dfml[[\"Five-Digit ZIP Code\", \"Year\", \"RECESSION_FLAG\", \"avg_rate_for_year\"]]\n",
    "mlfeatures['Year'] = pd.to_datetime(mlfeatures['Year'], format='%Y')\n",
    "mlfeatures['Year'] = pd.to_datetime(mlfeatures['Year']).dt.year\n",
    "#mlfeatures.set_index('Year', inplace=True)\n",
    "print(mlfeatures.dtypes)"
   ]
  },
  {
   "cell_type": "code",
   "execution_count": 93,
   "metadata": {},
   "outputs": [
    {
     "data": {
      "text/html": [
       "<div>\n",
       "<style scoped>\n",
       "    .dataframe tbody tr th:only-of-type {\n",
       "        vertical-align: middle;\n",
       "    }\n",
       "\n",
       "    .dataframe tbody tr th {\n",
       "        vertical-align: top;\n",
       "    }\n",
       "\n",
       "    .dataframe thead th {\n",
       "        text-align: right;\n",
       "    }\n",
       "</style>\n",
       "<table border=\"1\" class=\"dataframe\">\n",
       "  <thead>\n",
       "    <tr style=\"text-align: right;\">\n",
       "      <th></th>\n",
       "      <th>Five-Digit ZIP Code</th>\n",
       "      <th>Year</th>\n",
       "      <th>RECESSION_FLAG</th>\n",
       "      <th>avg_rate_for_year</th>\n",
       "    </tr>\n",
       "  </thead>\n",
       "  <tbody>\n",
       "    <tr>\n",
       "      <th>1</th>\n",
       "      <td>1002.0</td>\n",
       "      <td>1984</td>\n",
       "      <td>0</td>\n",
       "      <td>10.225</td>\n",
       "    </tr>\n",
       "    <tr>\n",
       "      <th>2</th>\n",
       "      <td>1020.0</td>\n",
       "      <td>1984</td>\n",
       "      <td>0</td>\n",
       "      <td>10.225</td>\n",
       "    </tr>\n",
       "    <tr>\n",
       "      <th>3</th>\n",
       "      <td>1027.0</td>\n",
       "      <td>1984</td>\n",
       "      <td>0</td>\n",
       "      <td>10.225</td>\n",
       "    </tr>\n",
       "    <tr>\n",
       "      <th>4</th>\n",
       "      <td>1028.0</td>\n",
       "      <td>1984</td>\n",
       "      <td>0</td>\n",
       "      <td>10.225</td>\n",
       "    </tr>\n",
       "    <tr>\n",
       "      <th>5</th>\n",
       "      <td>1040.0</td>\n",
       "      <td>1984</td>\n",
       "      <td>0</td>\n",
       "      <td>10.225</td>\n",
       "    </tr>\n",
       "  </tbody>\n",
       "</table>\n",
       "</div>"
      ],
      "text/plain": [
       "   Five-Digit ZIP Code  Year  RECESSION_FLAG  avg_rate_for_year\n",
       "1               1002.0  1984               0             10.225\n",
       "2               1020.0  1984               0             10.225\n",
       "3               1027.0  1984               0             10.225\n",
       "4               1028.0  1984               0             10.225\n",
       "5               1040.0  1984               0             10.225"
      ]
     },
     "execution_count": 93,
     "metadata": {},
     "output_type": "execute_result"
    }
   ],
   "source": [
    "mlfeatures.head()"
   ]
  },
  {
   "cell_type": "code",
   "execution_count": 94,
   "metadata": {},
   "outputs": [
    {
     "data": {
      "text/plain": [
       "(435906, 4)"
      ]
     },
     "execution_count": 94,
     "metadata": {},
     "output_type": "execute_result"
    }
   ],
   "source": [
    "mlfeatures.shape"
   ]
  },
  {
   "attachments": {},
   "cell_type": "markdown",
   "metadata": {},
   "source": [
    "#### Creating training and testing datasets"
   ]
  },
  {
   "cell_type": "code",
   "execution_count": 130,
   "metadata": {},
   "outputs": [
    {
     "name": "stdout",
     "output_type": "stream",
     "text": [
      "Shape of mlfeatures_train: (348724, 4)\n",
      "Shape of mltarget_train: (348724,)\n",
      "Shape of mlfeatures_test: (87182, 4)\n",
      "Shape of mltarget_test: (87182,)\n",
      "Shape of mlfeatures_train_date: (385985, 4)\n",
      "Shape of mltarget_train_date: (385985,)\n",
      "Shape of mlfeatures_test_date: (49921, 4)\n",
      "Shape of mltarget_test_date: (49921,)\n"
     ]
    }
   ],
   "source": [
    "\n",
    "\n",
    "# Split the data into training and testing sets\n",
    "# First using random\n",
    "mlfeatures_train, mlfeatures_test, mltarget_train, mltarget_test = train_test_split(mlfeatures, mltarget, test_size=0.2, random_state=42)\n",
    "\n",
    "# Print the shapes of the training and testing sets\n",
    "print(\"Shape of mlfeatures_train:\", mlfeatures_train.shape)\n",
    "print(\"Shape of mltarget_train:\", mltarget_train.shape)\n",
    "print(\"Shape of mlfeatures_test:\", mlfeatures_test.shape)\n",
    "print(\"Shape of mltarget_test:\", mltarget_test.shape)\n",
    "\n",
    "# Second split: using dates\n",
    "dfmltrim = dfml[[\"Five-Digit ZIP Code\", \"Year\", \"RECESSION_FLAG\", \"avg_rate_for_year\", 'Annual Change (%)']]\n",
    "train_date_df = dfmltrim[dfmltrim['Year'] < 2019]\n",
    "test_date_df = dfmltrim[dfmltrim['Year'] >= 2019]\n",
    "\n",
    "# Separate features and target variables\n",
    "mlfeatures_train_date = train_date_df.drop('Annual Change (%)', axis=1)\n",
    "mltarget_train_date = train_date_df['Annual Change (%)']\n",
    "mlfeatures_test_date = test_date_df.drop('Annual Change (%)', axis=1)\n",
    "mltarget_test_date = test_date_df['Annual Change (%)']\n",
    "\n",
    "print(\"Shape of mlfeatures_train_date:\", mlfeatures_train_date.shape)\n",
    "print(\"Shape of mltarget_train_date:\", mltarget_train_date.shape)\n",
    "print(\"Shape of mlfeatures_test_date:\", mlfeatures_test_date.shape)\n",
    "print(\"Shape of mltarget_test_date:\", mltarget_test_date.shape)\n"
   ]
  },
  {
   "attachments": {},
   "cell_type": "markdown",
   "metadata": {},
   "source": [
    "## Linear Regression"
   ]
  },
  {
   "cell_type": "code",
   "execution_count": 131,
   "metadata": {},
   "outputs": [
    {
     "data": {
      "text/plain": [
       "LinearRegression()"
      ]
     },
     "execution_count": 131,
     "metadata": {},
     "output_type": "execute_result"
    }
   ],
   "source": [
    "from sklearn.linear_model import LinearRegression\n",
    "\n",
    "# Create a Linear Regression model for each\n",
    "lr_model = LinearRegression()\n",
    "lr_model_date = LinearRegression()\n",
    "\n",
    "# Fit the model to the training data\n",
    "lr_model.fit(mlfeatures_train, mltarget_train)\n",
    "lr_model_date.fit(mlfeatures_train_date, mltarget_train_date)\n"
   ]
  },
  {
   "cell_type": "code",
   "execution_count": 132,
   "metadata": {},
   "outputs": [
    {
     "name": "stdout",
     "output_type": "stream",
     "text": [
      "80-20 split results\n",
      "Mean Squared Error: 57.164272290929546\n",
      "Root Mean Squared Error: 7.560705806399925\n",
      "R-squared: 0.11279030306727944\n",
      "date-based results\n",
      "Mean Squared Error: 57.164272290929546\n",
      "Root Mean Squared Error: 7.560705806399925\n",
      "R-squared: 0.11279030306727944\n"
     ]
    }
   ],
   "source": [
    "from sklearn.metrics import mean_squared_error, r2_score\n",
    "\n",
    "# Make predictions on the testing data\n",
    "mltarget_pred = lr_model.predict(mlfeatures_test) # 80/20 split\n",
    "mltarget_date_pred = lr_model_date.predict(mlfeatures_test_date) # date-based split\n",
    "\n",
    "print(\"80-20 split results\")\n",
    "# Compute the mean squared error\n",
    "mse = mean_squared_error(mltarget_test, mltarget_pred)\n",
    "print(\"Mean Squared Error:\", mse)\n",
    "# Compute the root mean squared error\n",
    "rmse = np.sqrt(mse)\n",
    "print(\"Root Mean Squared Error:\", rmse)\n",
    "# Compute the R-squared score\n",
    "r2 = r2_score(mltarget_test, mltarget_pred)\n",
    "print(\"R-squared:\", r2)\n",
    "\n",
    "\n",
    "print(\"date-based results\")\n",
    "mse_date = mean_squared_error(mltarget_test, mltarget_pred)\n",
    "print(\"Mean Squared Error:\", mse_date)\n",
    "# Compute the root mean squared error\n",
    "rmse_date = np.sqrt(mse_date)\n",
    "print(\"Root Mean Squared Error:\", rmse_date)\n",
    "# Compute the R-squared score\n",
    "r2_date = r2_score(mltarget_test_date, mltarget_date_pred)\n",
    "print(\"R-squared:\", r2)\n"
   ]
  },
  {
   "cell_type": "code",
   "execution_count": 133,
   "metadata": {},
   "outputs": [
    {
     "name": "stdout",
     "output_type": "stream",
     "text": [
      "Predicted Annual Change (%): [13.42194258 13.02620294 12.6304633 ]\n",
      "Predicted Annual Change (%): [9.15039505 8.75175197 8.35310889]  based on date-split train test\n"
     ]
    },
    {
     "name": "stderr",
     "output_type": "stream",
     "text": [
      "/Users/galenmittermann/opt/anaconda3/lib/python3.9/site-packages/sklearn/base.py:450: UserWarning: X does not have valid feature names, but LinearRegression was fitted with feature names\n",
      "  warnings.warn(\n",
      "/Users/galenmittermann/opt/anaconda3/lib/python3.9/site-packages/sklearn/base.py:450: UserWarning: X does not have valid feature names, but LinearRegression was fitted with feature names\n",
      "  warnings.warn(\n"
     ]
    }
   ],
   "source": [
    "# TESTING THE MODEL OUT\n",
    "\n",
    "\n",
    "# Use the trained model to make predictions for the new dataset\n",
    "predictions = lr_model.predict(new_data)\n",
    "predictions_date = lr_model_date.predict(new_data)\n",
    "# Print the predicted annual change (%) for each year\n",
    "print(\"Predicted Annual Change (%):\", predictions)\n",
    "print(\"Predicted Annual Change (%):\", predictions_date, \" based on date-split train test\")\n"
   ]
  },
  {
   "attachments": {},
   "cell_type": "markdown",
   "metadata": {},
   "source": [
    "## Random Forest"
   ]
  },
  {
   "cell_type": "code",
   "execution_count": 134,
   "metadata": {},
   "outputs": [
    {
     "name": "stdout",
     "output_type": "stream",
     "text": [
      "Results based on 80-20 split\n",
      "Mean Squared Error: 31.102743928544506\n",
      "Root Mean Squared Error: 5.576983407590927\n",
      "R-squared: 0.517274428437034\n"
     ]
    }
   ],
   "source": [
    "from sklearn.ensemble import RandomForestRegressor\n",
    "\n",
    "# Create a Random Forest model\n",
    "rf_model = RandomForestRegressor(n_estimators=200, random_state=42)\n",
    "# Fit the model to the training data\n",
    "rf_model.fit(mlfeatures_train, mltarget_train)\n",
    "\n",
    "print(\"Results based on 80-20 split\")\n",
    "mltarget_pred = rf_model.predict(mlfeatures_test)\n",
    "# Compute the mean squared error\n",
    "mse = mean_squared_error(mltarget_test, mltarget_pred)\n",
    "print(\"Mean Squared Error:\", mse)\n",
    "# Compute the root mean squared error\n",
    "rmse = np.sqrt(mse)\n",
    "print(\"Root Mean Squared Error:\", rmse)\n",
    "# Compute the R-squared score\n",
    "r2 = r2_score(mltarget_test, mltarget_pred)\n",
    "print(\"R-squared:\", r2)\n",
    "\n",
    "\n",
    "\n"
   ]
  },
  {
   "cell_type": "code",
   "execution_count": 138,
   "metadata": {},
   "outputs": [
    {
     "name": "stdout",
     "output_type": "stream",
     "text": [
      "Results based on date split\n",
      "Mean Squared Error: 73.9727855158881\n",
      "Root Mean Squared Error: 8.600743311824164\n",
      "R-squared: -0.35972662959902957\n"
     ]
    }
   ],
   "source": [
    "# Date based split\n",
    "# Create a Random Forest model\n",
    "rf_model_date = RandomForestRegressor(n_estimators=200, random_state=42)\n",
    "# Fit the model to the training data\n",
    "rf_model_date.fit(mlfeatures_train_date, mltarget_train_date)\n",
    "\n",
    "# Make predictions on the testing data\n",
    "print(\"Results based on date split\")\n",
    "mltarget_date_pred = rf_model_date.predict(mlfeatures_test_date)\n",
    "# Compute the mean squared error\n",
    "mse_date = mean_squared_error(mltarget_test_date, mltarget_date_pred)\n",
    "print(\"Mean Squared Error:\", mse_date)\n",
    "# Compute the root mean squared error\n",
    "rmse_date = np.sqrt(mse_date)\n",
    "print(\"Root Mean Squared Error:\", rmse_date)\n",
    "# Compute the R-squared score\n",
    "r2_date = r2_score(mltarget_test_date, mltarget_date_pred)\n",
    "print(\"R-squared:\", r2_date)"
   ]
  },
  {
   "cell_type": "code",
   "execution_count": 139,
   "metadata": {},
   "outputs": [
    {
     "name": "stderr",
     "output_type": "stream",
     "text": [
      "/Users/galenmittermann/opt/anaconda3/lib/python3.9/site-packages/sklearn/base.py:450: UserWarning: X does not have valid feature names, but RandomForestRegressor was fitted with feature names\n",
      "  warnings.warn(\n"
     ]
    },
    {
     "name": "stdout",
     "output_type": "stream",
     "text": [
      "Predicted Annual Change (%): [7.1146 7.1146 7.1146]\n"
     ]
    }
   ],
   "source": [
    "# TESTING THE RANDOM SPLIT MODEL OUT\n",
    "\n",
    "\n",
    "# Use the trained model to make predictions for the new dataset\n",
    "predictions = rf_model.predict(new_data)\n",
    "\n",
    "# Print the predicted annual change (%) for each year\n",
    "print(\"Predicted Annual Change (%):\", predictions)"
   ]
  },
  {
   "cell_type": "code",
   "execution_count": 140,
   "metadata": {},
   "outputs": [
    {
     "name": "stdout",
     "output_type": "stream",
     "text": [
      "Predicted Annual Change (%): [7.1146 7.1146 7.1146]\n"
     ]
    },
    {
     "name": "stderr",
     "output_type": "stream",
     "text": [
      "/Users/galenmittermann/opt/anaconda3/lib/python3.9/site-packages/sklearn/base.py:450: UserWarning: X does not have valid feature names, but RandomForestRegressor was fitted with feature names\n",
      "  warnings.warn(\n"
     ]
    }
   ],
   "source": [
    "# TESTING THE DATE MODEL OUT\n",
    "\n",
    "\n",
    "# Use the trained model to make predictions for the new dataset\n",
    "predictions = rf_model_date.predict(new_data)\n",
    "\n",
    "# Print the predicted annual change (%) for each year\n",
    "print(\"Predicted Annual Change (%):\", predictions)"
   ]
  },
  {
   "attachments": {},
   "cell_type": "markdown",
   "metadata": {},
   "source": [
    "## Gradient Boost"
   ]
  },
  {
   "cell_type": "code",
   "execution_count": 107,
   "metadata": {},
   "outputs": [
    {
     "name": "stdout",
     "output_type": "stream",
     "text": [
      "Mean Squared Error: 30.065853951864266\n",
      "Root Mean Squared Error: 5.483233895418311\n",
      "R-squared: 0.5333673271147457\n"
     ]
    }
   ],
   "source": [
    "from sklearn.ensemble import GradientBoostingRegressor\n",
    "\n",
    "# Create a Gradient Boosting Regressor model\n",
    "gb_model = GradientBoostingRegressor(n_estimators=100, learning_rate=0.1, max_depth=5, random_state=42)\n",
    "\n",
    "# Fit the model to the training data\n",
    "gb_model.fit(mlfeatures_train, mltarget_train)\n",
    "\n",
    "# Make predictions on the testing data\n",
    "mltarget_pred = gb_model.predict(mlfeatures_test)\n",
    "\n",
    "# Compute the mean squared error\n",
    "mse = mean_squared_error(mltarget_test, mltarget_pred)\n",
    "print(\"Mean Squared Error:\", mse)\n",
    "\n",
    "# Compute the root mean squared error\n",
    "rmse = np.sqrt(mse)\n",
    "print(\"Root Mean Squared Error:\", rmse)\n",
    "\n",
    "# Compute the R-squared score\n",
    "r2 = r2_score(mltarget_test, mltarget_pred)\n",
    "print(\"R-squared:\", r2)\n"
   ]
  },
  {
   "cell_type": "code",
   "execution_count": 141,
   "metadata": {},
   "outputs": [
    {
     "name": "stdout",
     "output_type": "stream",
     "text": [
      "Mean Squared Error: 31.102743928544506\n",
      "Root Mean Squared Error: 5.576983407590927\n",
      "R-squared: -0.18100187121452893\n"
     ]
    }
   ],
   "source": [
    "# Create a Gradient Boosting Regressor model\n",
    "gb_model_date = GradientBoostingRegressor(n_estimators=100, learning_rate=0.1, max_depth=5, random_state=42)\n",
    "\n",
    "# Fit the model to the training data\n",
    "gb_model_date.fit(mlfeatures_train_date, mltarget_train_date)\n",
    "\n",
    "# Make predictions on the testing data\n",
    "mltarget_pred_date = gb_model_date.predict(mlfeatures_test_date)\n",
    "\n",
    "# Compute the mean squared error\n",
    "mse_date = mean_squared_error(mltarget_test_date, mltarget_pred_date)\n",
    "print(\"Mean Squared Error:\", mse)\n",
    "\n",
    "# Compute the root mean squared error\n",
    "rmse_date = np.sqrt(mse_date)\n",
    "print(\"Root Mean Squared Error:\", rmse)\n",
    "\n",
    "# Compute the R-squared score\n",
    "r2 = r2_score(mltarget_test_date, mltarget_pred_date)\n",
    "print(\"R-squared:\", r2)"
   ]
  },
  {
   "cell_type": "code",
   "execution_count": 143,
   "metadata": {},
   "outputs": [
    {
     "name": "stdout",
     "output_type": "stream",
     "text": [
      "Predicted Annual Change (%): [16.3668514  16.3668514  15.68058264]\n"
     ]
    },
    {
     "name": "stderr",
     "output_type": "stream",
     "text": [
      "/Users/galenmittermann/opt/anaconda3/lib/python3.9/site-packages/sklearn/base.py:450: UserWarning: X does not have valid feature names, but GradientBoostingRegressor was fitted with feature names\n",
      "  warnings.warn(\n"
     ]
    }
   ],
   "source": [
    "# TESTING THE SPLIT MODEL OUT\n",
    "\n",
    "# Use the trained model to make predictions for the new dataset\n",
    "predictions = gb_model.predict(new_data)\n",
    "\n",
    "# Print the predicted annual change (%) for each year\n",
    "print(\"Predicted Annual Change (%):\", predictions)"
   ]
  },
  {
   "cell_type": "code",
   "execution_count": 142,
   "metadata": {},
   "outputs": [
    {
     "name": "stdout",
     "output_type": "stream",
     "text": [
      "Predicted Annual Change (%): [7.38601276 8.50069072 8.33317877]\n"
     ]
    },
    {
     "name": "stderr",
     "output_type": "stream",
     "text": [
      "/Users/galenmittermann/opt/anaconda3/lib/python3.9/site-packages/sklearn/base.py:450: UserWarning: X does not have valid feature names, but GradientBoostingRegressor was fitted with feature names\n",
      "  warnings.warn(\n"
     ]
    }
   ],
   "source": [
    "# TESTING THE DATE MODEL OUT\n",
    "\n",
    "\n",
    "# Use the trained model to make predictions for the new dataset\n",
    "predictions_date = gb_model_date.predict(new_data)\n",
    "\n",
    "# Print the predicted annual change (%) for each year\n",
    "print(\"Predicted Annual Change (%):\", predictions_date)"
   ]
  },
  {
   "attachments": {},
   "cell_type": "markdown",
   "metadata": {},
   "source": [
    "## Voting regressor to combine them"
   ]
  },
  {
   "cell_type": "code",
   "execution_count": 109,
   "metadata": {},
   "outputs": [
    {
     "name": "stdout",
     "output_type": "stream",
     "text": [
      "Mean Squared Error: 30.15628962009876\n",
      "Root Mean Squared Error: 5.491474266542525\n",
      "R-squared: 0.5319637336009878\n"
     ]
    }
   ],
   "source": [
    "from sklearn.ensemble import VotingRegressor\n",
    "\n",
    "# Create the voting regressor\n",
    "voting_model = VotingRegressor([('rf', rf_model), ('gb', gb_model), ('lr', lr_model)])\n",
    "\n",
    "# Fit the voting regressor to the training data\n",
    "voting_model.fit(mlfeatures_train, mltarget_train)\n",
    "\n",
    "# Make predictions on the testing data\n",
    "mltarget_pred = voting_model.predict(mlfeatures_test)\n",
    "\n",
    "# Compute the mean squared error\n",
    "mse = mean_squared_error(mltarget_test, mltarget_pred)\n",
    "print(\"Mean Squared Error:\", mse)\n",
    "\n",
    "# Compute the root mean squared error\n",
    "rmse = np.sqrt(mse)\n",
    "print(\"Root Mean Squared Error:\", rmse)\n",
    "\n",
    "# Compute the R-squared score\n",
    "r2 = r2_score(mltarget_test, mltarget_pred)\n",
    "print(\"R-squared:\", r2)\n"
   ]
  },
  {
   "cell_type": "code",
   "execution_count": 144,
   "metadata": {},
   "outputs": [
    {
     "name": "stdout",
     "output_type": "stream",
     "text": [
      "Mean Squared Error: 68.16872023276142\n",
      "Root Mean Squared Error: 8.25643508015181\n",
      "R-squared: -0.2530395274389585\n"
     ]
    }
   ],
   "source": [
    "# Create the voting regressor\n",
    "voting_model_date = VotingRegressor([('rf', rf_model_date), ('gb', gb_model_date), ('lr', lr_model_date)])\n",
    "\n",
    "# Fit the voting regressor to the training data\n",
    "voting_model_date.fit(mlfeatures_train_date, mltarget_train_date)\n",
    "\n",
    "# Make predictions on the testing data\n",
    "mltarget_pred_date = voting_model_date.predict(mlfeatures_test_date)\n",
    "\n",
    "# Compute the mean squared error\n",
    "mse_date = mean_squared_error(mltarget_test_date, mltarget_pred_date)\n",
    "print(\"Mean Squared Error:\", mse_date)\n",
    "\n",
    "# Compute the root mean squared error\n",
    "rmse_date = np.sqrt(mse_date)\n",
    "print(\"Root Mean Squared Error:\", rmse_date)\n",
    "\n",
    "# Compute the R-squared score\n",
    "r2_date = r2_score(mltarget_test_date, mltarget_pred_date)\n",
    "print(\"R-squared:\", r2_date)"
   ]
  },
  {
   "cell_type": "code",
   "execution_count": 146,
   "metadata": {},
   "outputs": [
    {
     "name": "stdout",
     "output_type": "stream",
     "text": [
      "Predicted Annual Change (%): [15.59551466 15.68364844 15.77178221]\n"
     ]
    },
    {
     "name": "stderr",
     "output_type": "stream",
     "text": [
      "/Users/galenmittermann/opt/anaconda3/lib/python3.9/site-packages/sklearn/base.py:450: UserWarning: X does not have valid feature names, but RandomForestRegressor was fitted with feature names\n",
      "  warnings.warn(\n",
      "/Users/galenmittermann/opt/anaconda3/lib/python3.9/site-packages/sklearn/base.py:450: UserWarning: X does not have valid feature names, but GradientBoostingRegressor was fitted with feature names\n",
      "  warnings.warn(\n",
      "/Users/galenmittermann/opt/anaconda3/lib/python3.9/site-packages/sklearn/base.py:450: UserWarning: X does not have valid feature names, but LinearRegression was fitted with feature names\n",
      "  warnings.warn(\n"
     ]
    }
   ],
   "source": [
    "# TESTING THE MODEL OUT\n",
    "\n",
    "# Create a new dataset with the desired feature values\n",
    "new_data = np.array([[97405, 2023, 0, 5.0],\n",
    "                     [97405, 2024, 0, 5.0],\n",
    "                     [97405, 2025, 0, 5.0]])\n",
    "\n",
    "# Use the trained model to make predictions for the new dataset\n",
    "predictions = voting_model.predict(new_data)\n",
    "\n",
    "# Print the predicted annual change (%) for each year\n",
    "print(\"Predicted Annual Change (%):\", predictions)"
   ]
  },
  {
   "cell_type": "code",
   "execution_count": 147,
   "metadata": {},
   "outputs": [
    {
     "name": "stdout",
     "output_type": "stream",
     "text": [
      "Predicted Annual Change (%): [7.88366927 7.91741429 7.95115931]\n"
     ]
    },
    {
     "name": "stderr",
     "output_type": "stream",
     "text": [
      "/Users/galenmittermann/opt/anaconda3/lib/python3.9/site-packages/sklearn/base.py:450: UserWarning: X does not have valid feature names, but RandomForestRegressor was fitted with feature names\n",
      "  warnings.warn(\n",
      "/Users/galenmittermann/opt/anaconda3/lib/python3.9/site-packages/sklearn/base.py:450: UserWarning: X does not have valid feature names, but GradientBoostingRegressor was fitted with feature names\n",
      "  warnings.warn(\n",
      "/Users/galenmittermann/opt/anaconda3/lib/python3.9/site-packages/sklearn/base.py:450: UserWarning: X does not have valid feature names, but LinearRegression was fitted with feature names\n",
      "  warnings.warn(\n"
     ]
    }
   ],
   "source": [
    "# TESTING THE MODEL OUT\n",
    "\n",
    "# Use the trained model to make predictions for the new dataset\n",
    "predictions_date = voting_model_date.predict(new_data)\n",
    "\n",
    "# Print the predicted annual change (%) for each year\n",
    "print(\"Predicted Annual Change (%):\", predictions_date)"
   ]
  }
 ],
 "metadata": {
  "kernelspec": {
   "display_name": "base",
   "language": "python",
   "name": "python3"
  },
  "language_info": {
   "codemirror_mode": {
    "name": "ipython",
    "version": 3
   },
   "file_extension": ".py",
   "mimetype": "text/x-python",
   "name": "python",
   "nbconvert_exporter": "python",
   "pygments_lexer": "ipython3",
   "version": "3.9.12"
  },
  "orig_nbformat": 4
 },
 "nbformat": 4,
 "nbformat_minor": 2
}
