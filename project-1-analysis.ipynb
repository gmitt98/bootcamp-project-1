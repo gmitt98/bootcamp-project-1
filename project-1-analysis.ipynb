{
 "cells": [
  {
   "attachments": {},
   "cell_type": "markdown",
   "metadata": {},
   "source": [
    "### Analysis part 1: interest rates"
   ]
  },
  {
   "cell_type": "code",
   "execution_count": 45,
   "metadata": {},
   "outputs": [],
   "source": [
    "import pandas as pd\n",
    "import numpy as np\n",
    "import sklearn as sk\n",
    "\n",
    "from sklearn.model_selection import train_test_split"
   ]
  },
  {
   "cell_type": "code",
   "execution_count": 70,
   "metadata": {},
   "outputs": [],
   "source": [
    "df = pd.read_csv('data/cleaned data/total_market_data_merged.csv')\n",
    "#df = df.drop(['Unnamed: 0', \"YEAR_x\", \"YEAR_y\", 'DATE'], axis = 1)"
   ]
  },
  {
   "cell_type": "code",
   "execution_count": 47,
   "metadata": {},
   "outputs": [
    {
     "data": {
      "text/html": [
       "<div>\n",
       "<style scoped>\n",
       "    .dataframe tbody tr th:only-of-type {\n",
       "        vertical-align: middle;\n",
       "    }\n",
       "\n",
       "    .dataframe tbody tr th {\n",
       "        vertical-align: top;\n",
       "    }\n",
       "\n",
       "    .dataframe thead th {\n",
       "        text-align: right;\n",
       "    }\n",
       "</style>\n",
       "<table border=\"1\" class=\"dataframe\">\n",
       "  <thead>\n",
       "    <tr style=\"text-align: right;\">\n",
       "      <th></th>\n",
       "      <th>Unnamed: 0</th>\n",
       "      <th>Five-Digit ZIP Code</th>\n",
       "      <th>year</th>\n",
       "      <th>Annual Change (%)</th>\n",
       "      <th>HPI</th>\n",
       "      <th>HPI from 2012</th>\n",
       "      <th>HPI with 2012 base</th>\n",
       "      <th>normalized_sale_price</th>\n",
       "      <th>RECESSION_FLAG</th>\n",
       "      <th>avg_rate_for_year</th>\n",
       "      <th>Median_hh_income</th>\n",
       "      <th>Year_Avg_Unempl</th>\n",
       "      <th>state</th>\n",
       "      <th>zip_code</th>\n",
       "      <th>bucketed_year</th>\n",
       "      <th>State_Num</th>\n",
       "      <th>Resident Population</th>\n",
       "      <th>Percent Change in Resident Population</th>\n",
       "    </tr>\n",
       "  </thead>\n",
       "  <tbody>\n",
       "    <tr>\n",
       "      <th>0</th>\n",
       "      <td>0</td>\n",
       "      <td>1001.0</td>\n",
       "      <td>1984</td>\n",
       "      <td>.</td>\n",
       "      <td>100.00</td>\n",
       "      <td>279.95</td>\n",
       "      <td>0.357207</td>\n",
       "      <td>58369.688570</td>\n",
       "      <td>0</td>\n",
       "      <td>10.225000</td>\n",
       "      <td>55828</td>\n",
       "      <td>7.7</td>\n",
       "      <td>Massachusetts</td>\n",
       "      <td>1001</td>\n",
       "      <td>1990</td>\n",
       "      <td>6.0</td>\n",
       "      <td>6016425.0</td>\n",
       "      <td>4.9</td>\n",
       "    </tr>\n",
       "    <tr>\n",
       "      <th>1</th>\n",
       "      <td>1</td>\n",
       "      <td>1001.0</td>\n",
       "      <td>1985</td>\n",
       "      <td>16.00</td>\n",
       "      <td>116.00</td>\n",
       "      <td>279.95</td>\n",
       "      <td>0.414360</td>\n",
       "      <td>67708.838742</td>\n",
       "      <td>0</td>\n",
       "      <td>8.100833</td>\n",
       "      <td>56871</td>\n",
       "      <td>7.2</td>\n",
       "      <td>Massachusetts</td>\n",
       "      <td>1001</td>\n",
       "      <td>1990</td>\n",
       "      <td>6.0</td>\n",
       "      <td>6016425.0</td>\n",
       "      <td>4.9</td>\n",
       "    </tr>\n",
       "    <tr>\n",
       "      <th>2</th>\n",
       "      <td>2</td>\n",
       "      <td>1001.0</td>\n",
       "      <td>1986</td>\n",
       "      <td>14.21</td>\n",
       "      <td>132.48</td>\n",
       "      <td>279.95</td>\n",
       "      <td>0.473227</td>\n",
       "      <td>77328.163418</td>\n",
       "      <td>0</td>\n",
       "      <td>6.805000</td>\n",
       "      <td>58920</td>\n",
       "      <td>6.7</td>\n",
       "      <td>Massachusetts</td>\n",
       "      <td>1001</td>\n",
       "      <td>1990</td>\n",
       "      <td>6.0</td>\n",
       "      <td>6016425.0</td>\n",
       "      <td>4.9</td>\n",
       "    </tr>\n",
       "    <tr>\n",
       "      <th>3</th>\n",
       "      <td>3</td>\n",
       "      <td>1001.0</td>\n",
       "      <td>1987</td>\n",
       "      <td>21.08</td>\n",
       "      <td>160.41</td>\n",
       "      <td>279.95</td>\n",
       "      <td>0.572995</td>\n",
       "      <td>93630.817436</td>\n",
       "      <td>0</td>\n",
       "      <td>6.657500</td>\n",
       "      <td>59624</td>\n",
       "      <td>6.2</td>\n",
       "      <td>Massachusetts</td>\n",
       "      <td>1001</td>\n",
       "      <td>1990</td>\n",
       "      <td>6.0</td>\n",
       "      <td>6016425.0</td>\n",
       "      <td>4.9</td>\n",
       "    </tr>\n",
       "    <tr>\n",
       "      <th>4</th>\n",
       "      <td>4</td>\n",
       "      <td>1001.0</td>\n",
       "      <td>1988</td>\n",
       "      <td>17.63</td>\n",
       "      <td>188.68</td>\n",
       "      <td>279.95</td>\n",
       "      <td>0.673977</td>\n",
       "      <td>110131.928394</td>\n",
       "      <td>0</td>\n",
       "      <td>7.568333</td>\n",
       "      <td>60115</td>\n",
       "      <td>5.5</td>\n",
       "      <td>Massachusetts</td>\n",
       "      <td>1001</td>\n",
       "      <td>1990</td>\n",
       "      <td>6.0</td>\n",
       "      <td>6016425.0</td>\n",
       "      <td>4.9</td>\n",
       "    </tr>\n",
       "  </tbody>\n",
       "</table>\n",
       "</div>"
      ],
      "text/plain": [
       "   Unnamed: 0  Five-Digit ZIP Code  year Annual Change (%)     HPI  \\\n",
       "0           0               1001.0  1984                 .  100.00   \n",
       "1           1               1001.0  1985             16.00  116.00   \n",
       "2           2               1001.0  1986             14.21  132.48   \n",
       "3           3               1001.0  1987             21.08  160.41   \n",
       "4           4               1001.0  1988             17.63  188.68   \n",
       "\n",
       "   HPI from 2012  HPI with 2012 base  normalized_sale_price  RECESSION_FLAG  \\\n",
       "0         279.95            0.357207           58369.688570               0   \n",
       "1         279.95            0.414360           67708.838742               0   \n",
       "2         279.95            0.473227           77328.163418               0   \n",
       "3         279.95            0.572995           93630.817436               0   \n",
       "4         279.95            0.673977          110131.928394               0   \n",
       "\n",
       "   avg_rate_for_year  Median_hh_income  Year_Avg_Unempl          state  \\\n",
       "0          10.225000             55828              7.7  Massachusetts   \n",
       "1           8.100833             56871              7.2  Massachusetts   \n",
       "2           6.805000             58920              6.7  Massachusetts   \n",
       "3           6.657500             59624              6.2  Massachusetts   \n",
       "4           7.568333             60115              5.5  Massachusetts   \n",
       "\n",
       "   zip_code  bucketed_year  State_Num  Resident Population  \\\n",
       "0      1001           1990        6.0            6016425.0   \n",
       "1      1001           1990        6.0            6016425.0   \n",
       "2      1001           1990        6.0            6016425.0   \n",
       "3      1001           1990        6.0            6016425.0   \n",
       "4      1001           1990        6.0            6016425.0   \n",
       "\n",
       "   Percent Change in Resident Population  \n",
       "0                                    4.9  \n",
       "1                                    4.9  \n",
       "2                                    4.9  \n",
       "3                                    4.9  \n",
       "4                                    4.9  "
      ]
     },
     "execution_count": 47,
     "metadata": {},
     "output_type": "execute_result"
    }
   ],
   "source": [
    "df.head()"
   ]
  },
  {
   "cell_type": "code",
   "execution_count": 48,
   "metadata": {},
   "outputs": [
    {
     "data": {
      "text/html": [
       "<div>\n",
       "<style scoped>\n",
       "    .dataframe tbody tr th:only-of-type {\n",
       "        vertical-align: middle;\n",
       "    }\n",
       "\n",
       "    .dataframe tbody tr th {\n",
       "        vertical-align: top;\n",
       "    }\n",
       "\n",
       "    .dataframe thead th {\n",
       "        text-align: right;\n",
       "    }\n",
       "</style>\n",
       "<table border=\"1\" class=\"dataframe\">\n",
       "  <thead>\n",
       "    <tr style=\"text-align: right;\">\n",
       "      <th></th>\n",
       "      <th>Unnamed: 0</th>\n",
       "      <th>Five-Digit ZIP Code</th>\n",
       "      <th>year</th>\n",
       "      <th>Annual Change (%)</th>\n",
       "      <th>HPI</th>\n",
       "      <th>HPI from 2012</th>\n",
       "      <th>HPI with 2012 base</th>\n",
       "      <th>normalized_sale_price</th>\n",
       "      <th>RECESSION_FLAG</th>\n",
       "      <th>avg_rate_for_year</th>\n",
       "      <th>Median_hh_income</th>\n",
       "      <th>Year_Avg_Unempl</th>\n",
       "      <th>state</th>\n",
       "      <th>zip_code</th>\n",
       "      <th>bucketed_year</th>\n",
       "      <th>State_Num</th>\n",
       "      <th>Resident Population</th>\n",
       "      <th>Percent Change in Resident Population</th>\n",
       "    </tr>\n",
       "  </thead>\n",
       "  <tbody>\n",
       "    <tr>\n",
       "      <th>168440</th>\n",
       "      <td>168440</td>\n",
       "      <td>97405.0</td>\n",
       "      <td>2022</td>\n",
       "      <td>17.29</td>\n",
       "      <td>1245.59</td>\n",
       "      <td>604.3</td>\n",
       "      <td>2.061211</td>\n",
       "      <td>532739.0</td>\n",
       "      <td>0</td>\n",
       "      <td>1.683333</td>\n",
       "      <td>71000</td>\n",
       "      <td>3.8</td>\n",
       "      <td>Oregon</td>\n",
       "      <td>97405</td>\n",
       "      <td>2020</td>\n",
       "      <td>33.0</td>\n",
       "      <td>4237256.0</td>\n",
       "      <td>10.6</td>\n",
       "    </tr>\n",
       "  </tbody>\n",
       "</table>\n",
       "</div>"
      ],
      "text/plain": [
       "        Unnamed: 0  Five-Digit ZIP Code  year Annual Change (%)      HPI  \\\n",
       "168440      168440              97405.0  2022             17.29  1245.59   \n",
       "\n",
       "        HPI from 2012  HPI with 2012 base  normalized_sale_price  \\\n",
       "168440          604.3            2.061211               532739.0   \n",
       "\n",
       "        RECESSION_FLAG  avg_rate_for_year  Median_hh_income  Year_Avg_Unempl  \\\n",
       "168440               0           1.683333             71000              3.8   \n",
       "\n",
       "         state  zip_code  bucketed_year  State_Num  Resident Population  \\\n",
       "168440  Oregon     97405           2020       33.0            4237256.0   \n",
       "\n",
       "        Percent Change in Resident Population  \n",
       "168440                                   10.6  "
      ]
     },
     "execution_count": 48,
     "metadata": {},
     "output_type": "execute_result"
    }
   ],
   "source": [
    "# get a sample from my zip code to later test\n",
    "my_zip = df[(df['zip_code']==97405) & (df['year']==2022)]\n",
    "my_zip"
   ]
  },
  {
   "attachments": {},
   "cell_type": "markdown",
   "metadata": {},
   "source": [
    "### Part 4/5/bonus: machine learning"
   ]
  },
  {
   "cell_type": "code",
   "execution_count": 83,
   "metadata": {},
   "outputs": [],
   "source": [
    "# This is the data I'm going to make an annual change % with: zip code, year, recession flag, avg rate, state, population, pop change\n",
    "new_data = np.array([[97405, 2023, 0, 5.0, 71000, 5, 33, 10.6],\n",
    "                     [97405, 2024, 0, 5.0, 71000, 5, 33, 10.6],\n",
    "                     [97405, 2025, 0, 5.0, 71000, 5, 33, 10.6]])"
   ]
  },
  {
   "cell_type": "code",
   "execution_count": 69,
   "metadata": {},
   "outputs": [
    {
     "name": "stdout",
     "output_type": "stream",
     "text": [
      "['State_Num', 'Resident Population', 'Percent Change in Resident Population']\n"
     ]
    }
   ],
   "source": [
    "columns_with_nan = df.columns[df.isna().any()].tolist()\n",
    "print(columns_with_nan)"
   ]
  },
  {
   "cell_type": "code",
   "execution_count": 73,
   "metadata": {},
   "outputs": [
    {
     "name": "stderr",
     "output_type": "stream",
     "text": [
      "/var/folders/hl/p3c4xh5x4nv00kvc7sckx1040000gn/T/ipykernel_72688/2545710660.py:6: UserWarning: Boolean Series key will be reindexed to match DataFrame index.\n",
      "  dfml = dfml[df[\"Resident Population\"].notna()]\n",
      "/var/folders/hl/p3c4xh5x4nv00kvc7sckx1040000gn/T/ipykernel_72688/2545710660.py:9: UserWarning: Boolean Series key will be reindexed to match DataFrame index.\n",
      "  dfml = dfml[df[\"Percent Change in Resident Population\"].notna()]\n",
      "/var/folders/hl/p3c4xh5x4nv00kvc7sckx1040000gn/T/ipykernel_72688/2545710660.py:12: UserWarning: Boolean Series key will be reindexed to match DataFrame index.\n",
      "  dfml = dfml[df[\"Annual Change (%)\"].notna()]\n"
     ]
    }
   ],
   "source": [
    "# create a dataset with no missing annual change values - just drop them\n",
    "\n",
    "dfml = df[df[\"State_Num\"].notna()]\n",
    "dfml=dfml[~dfml.isin([\".\"]).any(axis=1)]\n",
    "\n",
    "dfml = dfml[df[\"Resident Population\"].notna()]\n",
    "dfml=dfml[~dfml.isin([\".\"]).any(axis=1)]\n",
    "\n",
    "dfml = dfml[df[\"Percent Change in Resident Population\"].notna()]\n",
    "dfml=dfml[~dfml.isin([\".\"]).any(axis=1)]\n",
    "\n",
    "dfml = dfml[df[\"Annual Change (%)\"].notna()]\n",
    "dfml=dfml[~dfml.isin([\".\"]).any(axis=1)]\n",
    "dfml[\"Annual Change(%)\"] = dfml[\"Annual Change (%)\"].astype(float)"
   ]
  },
  {
   "cell_type": "code",
   "execution_count": 74,
   "metadata": {},
   "outputs": [],
   "source": [
    "# define my target var\n",
    "mltarget = dfml[\"Annual Change (%)\"]\n",
    "y_mltarget = mltarget.values"
   ]
  },
  {
   "cell_type": "code",
   "execution_count": 75,
   "metadata": {},
   "outputs": [
    {
     "name": "stdout",
     "output_type": "stream",
     "text": [
      "Five-Digit ZIP Code                      float64\n",
      "year                                       int64\n",
      "RECESSION_FLAG                             int64\n",
      "avg_rate_for_year                        float64\n",
      "Median_hh_income                           int64\n",
      "Year_Avg_Unempl                          float64\n",
      "State_Num                                float64\n",
      "Percent Change in Resident Population    float64\n",
      "dtype: object\n"
     ]
    },
    {
     "name": "stderr",
     "output_type": "stream",
     "text": [
      "/var/folders/hl/p3c4xh5x4nv00kvc7sckx1040000gn/T/ipykernel_72688/833417539.py:3: SettingWithCopyWarning: \n",
      "A value is trying to be set on a copy of a slice from a DataFrame.\n",
      "Try using .loc[row_indexer,col_indexer] = value instead\n",
      "\n",
      "See the caveats in the documentation: https://pandas.pydata.org/pandas-docs/stable/user_guide/indexing.html#returning-a-view-versus-a-copy\n",
      "  mlfeatures['year'] = pd.to_datetime(mlfeatures['year'], format='%Y')\n",
      "/var/folders/hl/p3c4xh5x4nv00kvc7sckx1040000gn/T/ipykernel_72688/833417539.py:4: SettingWithCopyWarning: \n",
      "A value is trying to be set on a copy of a slice from a DataFrame.\n",
      "Try using .loc[row_indexer,col_indexer] = value instead\n",
      "\n",
      "See the caveats in the documentation: https://pandas.pydata.org/pandas-docs/stable/user_guide/indexing.html#returning-a-view-versus-a-copy\n",
      "  mlfeatures['year'] = pd.to_datetime(mlfeatures['year']).dt.year\n"
     ]
    }
   ],
   "source": [
    "# define my features\n",
    "mlfeatures = dfml[[\"Five-Digit ZIP Code\", \"year\", \"RECESSION_FLAG\", \"avg_rate_for_year\", \"Median_hh_income\", \"Year_Avg_Unempl\", \"State_Num\", \"Percent Change in Resident Population\"]]\n",
    "mlfeatures['year'] = pd.to_datetime(mlfeatures['year'], format='%Y')\n",
    "mlfeatures['year'] = pd.to_datetime(mlfeatures['year']).dt.year\n",
    "#mlfeatures.set_index('Year', inplace=True)\n",
    "print(mlfeatures.dtypes)"
   ]
  },
  {
   "cell_type": "code",
   "execution_count": 62,
   "metadata": {},
   "outputs": [
    {
     "data": {
      "text/html": [
       "<div>\n",
       "<style scoped>\n",
       "    .dataframe tbody tr th:only-of-type {\n",
       "        vertical-align: middle;\n",
       "    }\n",
       "\n",
       "    .dataframe tbody tr th {\n",
       "        vertical-align: top;\n",
       "    }\n",
       "\n",
       "    .dataframe thead th {\n",
       "        text-align: right;\n",
       "    }\n",
       "</style>\n",
       "<table border=\"1\" class=\"dataframe\">\n",
       "  <thead>\n",
       "    <tr style=\"text-align: right;\">\n",
       "      <th></th>\n",
       "      <th>Five-Digit ZIP Code</th>\n",
       "      <th>year</th>\n",
       "      <th>RECESSION_FLAG</th>\n",
       "      <th>avg_rate_for_year</th>\n",
       "      <th>Median_hh_income</th>\n",
       "      <th>Year_Avg_Unempl</th>\n",
       "      <th>State_Num</th>\n",
       "      <th>Percent Change in Resident Population</th>\n",
       "    </tr>\n",
       "  </thead>\n",
       "  <tbody>\n",
       "    <tr>\n",
       "      <th>1</th>\n",
       "      <td>1001.0</td>\n",
       "      <td>1985</td>\n",
       "      <td>0</td>\n",
       "      <td>8.100833</td>\n",
       "      <td>56871</td>\n",
       "      <td>7.2</td>\n",
       "      <td>6.0</td>\n",
       "      <td>4.9</td>\n",
       "    </tr>\n",
       "    <tr>\n",
       "      <th>2</th>\n",
       "      <td>1001.0</td>\n",
       "      <td>1986</td>\n",
       "      <td>0</td>\n",
       "      <td>6.805000</td>\n",
       "      <td>58920</td>\n",
       "      <td>6.7</td>\n",
       "      <td>6.0</td>\n",
       "      <td>4.9</td>\n",
       "    </tr>\n",
       "    <tr>\n",
       "      <th>3</th>\n",
       "      <td>1001.0</td>\n",
       "      <td>1987</td>\n",
       "      <td>0</td>\n",
       "      <td>6.657500</td>\n",
       "      <td>59624</td>\n",
       "      <td>6.2</td>\n",
       "      <td>6.0</td>\n",
       "      <td>4.9</td>\n",
       "    </tr>\n",
       "    <tr>\n",
       "      <th>4</th>\n",
       "      <td>1001.0</td>\n",
       "      <td>1988</td>\n",
       "      <td>0</td>\n",
       "      <td>7.568333</td>\n",
       "      <td>60115</td>\n",
       "      <td>5.5</td>\n",
       "      <td>6.0</td>\n",
       "      <td>4.9</td>\n",
       "    </tr>\n",
       "    <tr>\n",
       "      <th>5</th>\n",
       "      <td>1001.0</td>\n",
       "      <td>1989</td>\n",
       "      <td>1</td>\n",
       "      <td>9.216667</td>\n",
       "      <td>61153</td>\n",
       "      <td>5.4</td>\n",
       "      <td>6.0</td>\n",
       "      <td>4.9</td>\n",
       "    </tr>\n",
       "  </tbody>\n",
       "</table>\n",
       "</div>"
      ],
      "text/plain": [
       "   Five-Digit ZIP Code  year  RECESSION_FLAG  avg_rate_for_year  \\\n",
       "1               1001.0  1985               0           8.100833   \n",
       "2               1001.0  1986               0           6.805000   \n",
       "3               1001.0  1987               0           6.657500   \n",
       "4               1001.0  1988               0           7.568333   \n",
       "5               1001.0  1989               1           9.216667   \n",
       "\n",
       "   Median_hh_income  Year_Avg_Unempl  State_Num  \\\n",
       "1             56871              7.2        6.0   \n",
       "2             58920              6.7        6.0   \n",
       "3             59624              6.2        6.0   \n",
       "4             60115              5.5        6.0   \n",
       "5             61153              5.4        6.0   \n",
       "\n",
       "   Percent Change in Resident Population  \n",
       "1                                    4.9  \n",
       "2                                    4.9  \n",
       "3                                    4.9  \n",
       "4                                    4.9  \n",
       "5                                    4.9  "
      ]
     },
     "execution_count": 62,
     "metadata": {},
     "output_type": "execute_result"
    }
   ],
   "source": [
    "mlfeatures.head()"
   ]
  },
  {
   "cell_type": "code",
   "execution_count": 63,
   "metadata": {},
   "outputs": [
    {
     "data": {
      "text/plain": [
       "(414241, 8)"
      ]
     },
     "execution_count": 63,
     "metadata": {},
     "output_type": "execute_result"
    }
   ],
   "source": [
    "mlfeatures.shape"
   ]
  },
  {
   "attachments": {},
   "cell_type": "markdown",
   "metadata": {},
   "source": [
    "#### Creating training and testing datasets"
   ]
  },
  {
   "cell_type": "code",
   "execution_count": 76,
   "metadata": {},
   "outputs": [
    {
     "name": "stdout",
     "output_type": "stream",
     "text": [
      "Shape of mlfeatures_train: (330850, 8)\n",
      "Shape of mltarget_train: (330850,)\n",
      "Shape of mlfeatures_test: (82713, 8)\n",
      "Shape of mltarget_test: (82713,)\n",
      "Shape of mlfeatures_train_date: (363775, 8)\n",
      "Shape of mltarget_train_date: (363775,)\n",
      "Shape of mlfeatures_test_date: (49788, 8)\n",
      "Shape of mltarget_test_date: (49788,)\n"
     ]
    }
   ],
   "source": [
    "\n",
    "\n",
    "# Split the data into training and testing sets\n",
    "# First using random\n",
    "mlfeatures_train, mlfeatures_test, mltarget_train, mltarget_test = train_test_split(mlfeatures, mltarget, test_size=0.2, random_state=42)\n",
    "x_mlfeatures_train = mlfeatures_train.values #creating numpy versions here\n",
    "x_mlfeatures_test = mlfeatures_test.values\n",
    "y_mltarget_train = mltarget_train.values\n",
    "y_mltarget_test = mltarget_test.values\n",
    "\n",
    "# Print the shapes of the training and testing sets\n",
    "print(\"Shape of mlfeatures_train:\", mlfeatures_train.shape)\n",
    "print(\"Shape of mltarget_train:\", mltarget_train.shape)\n",
    "print(\"Shape of mlfeatures_test:\", mlfeatures_test.shape)\n",
    "print(\"Shape of mltarget_test:\", mltarget_test.shape)\n",
    "\n",
    "# Second split: using dates\n",
    "dfmltrim = dfml[[\"Five-Digit ZIP Code\", \"year\", \"RECESSION_FLAG\", \"avg_rate_for_year\",'Median_hh_income','Year_Avg_Unempl', 'Annual Change (%)',\"State_Num\", \"Percent Change in Resident Population\"]]\n",
    "train_date_df = dfmltrim[dfmltrim['year'] < 2019]\n",
    "x_train_date_df = train_date_df.values\n",
    "test_date_df = dfmltrim[dfmltrim['year'] >= 2019]\n",
    "x_test_date_df = test_date_df.values\n",
    "# Separate features and target variables\n",
    "mlfeatures_train_date = train_date_df.drop('Annual Change (%)', axis=1)\n",
    "x_mlfeatures_train_date = mlfeatures_train_date.values #create a numpy version \n",
    "mltarget_train_date = train_date_df['Annual Change (%)']\n",
    "y_mltarget_train_date = mltarget_train_date.values # numpy again, and also below...\n",
    "mlfeatures_test_date = test_date_df.drop('Annual Change (%)', axis=1)\n",
    "x_mlfeatures_test_date = mlfeatures_test_date.values\n",
    "mltarget_test_date = test_date_df['Annual Change (%)']\n",
    "y_mltarget_test_date = mltarget_test_date.values\n",
    "\n",
    "print(\"Shape of mlfeatures_train_date:\", mlfeatures_train_date.shape)\n",
    "print(\"Shape of mltarget_train_date:\", mltarget_train_date.shape)\n",
    "print(\"Shape of mlfeatures_test_date:\", mlfeatures_test_date.shape)\n",
    "print(\"Shape of mltarget_test_date:\", mltarget_test_date.shape)\n"
   ]
  },
  {
   "cell_type": "code",
   "execution_count": 77,
   "metadata": {},
   "outputs": [
    {
     "data": {
      "text/html": [
       "<div>\n",
       "<style scoped>\n",
       "    .dataframe tbody tr th:only-of-type {\n",
       "        vertical-align: middle;\n",
       "    }\n",
       "\n",
       "    .dataframe tbody tr th {\n",
       "        vertical-align: top;\n",
       "    }\n",
       "\n",
       "    .dataframe thead th {\n",
       "        text-align: right;\n",
       "    }\n",
       "</style>\n",
       "<table border=\"1\" class=\"dataframe\">\n",
       "  <thead>\n",
       "    <tr style=\"text-align: right;\">\n",
       "      <th></th>\n",
       "      <th>Five-Digit ZIP Code</th>\n",
       "      <th>year</th>\n",
       "      <th>RECESSION_FLAG</th>\n",
       "      <th>avg_rate_for_year</th>\n",
       "      <th>Median_hh_income</th>\n",
       "      <th>Year_Avg_Unempl</th>\n",
       "      <th>State_Num</th>\n",
       "      <th>Percent Change in Resident Population</th>\n",
       "    </tr>\n",
       "  </thead>\n",
       "  <tbody>\n",
       "    <tr>\n",
       "      <th>305803</th>\n",
       "      <td>18054.0</td>\n",
       "      <td>1996</td>\n",
       "      <td>0</td>\n",
       "      <td>5.298333</td>\n",
       "      <td>61225</td>\n",
       "      <td>5.5</td>\n",
       "      <td>2.0</td>\n",
       "      <td>3.4</td>\n",
       "    </tr>\n",
       "    <tr>\n",
       "      <th>101341</th>\n",
       "      <td>64110.0</td>\n",
       "      <td>2003</td>\n",
       "      <td>0</td>\n",
       "      <td>1.127500</td>\n",
       "      <td>63967</td>\n",
       "      <td>5.8</td>\n",
       "      <td>24.0</td>\n",
       "      <td>7.0</td>\n",
       "    </tr>\n",
       "    <tr>\n",
       "      <th>120391</th>\n",
       "      <td>78550.0</td>\n",
       "      <td>2021</td>\n",
       "      <td>0</td>\n",
       "      <td>0.080000</td>\n",
       "      <td>70784</td>\n",
       "      <td>5.1</td>\n",
       "      <td>28.0</td>\n",
       "      <td>15.9</td>\n",
       "    </tr>\n",
       "    <tr>\n",
       "      <th>308763</th>\n",
       "      <td>27504.0</td>\n",
       "      <td>2011</td>\n",
       "      <td>0</td>\n",
       "      <td>0.101667</td>\n",
       "      <td>60428</td>\n",
       "      <td>8.8</td>\n",
       "      <td>12.0</td>\n",
       "      <td>9.5</td>\n",
       "    </tr>\n",
       "    <tr>\n",
       "      <th>425576</th>\n",
       "      <td>76534.0</td>\n",
       "      <td>2020</td>\n",
       "      <td>1</td>\n",
       "      <td>0.375833</td>\n",
       "      <td>71186</td>\n",
       "      <td>5.1</td>\n",
       "      <td>28.0</td>\n",
       "      <td>15.9</td>\n",
       "    </tr>\n",
       "  </tbody>\n",
       "</table>\n",
       "</div>"
      ],
      "text/plain": [
       "        Five-Digit ZIP Code  year  RECESSION_FLAG  avg_rate_for_year  \\\n",
       "305803              18054.0  1996               0           5.298333   \n",
       "101341              64110.0  2003               0           1.127500   \n",
       "120391              78550.0  2021               0           0.080000   \n",
       "308763              27504.0  2011               0           0.101667   \n",
       "425576              76534.0  2020               1           0.375833   \n",
       "\n",
       "        Median_hh_income  Year_Avg_Unempl  State_Num  \\\n",
       "305803             61225              5.5        2.0   \n",
       "101341             63967              5.8       24.0   \n",
       "120391             70784              5.1       28.0   \n",
       "308763             60428              8.8       12.0   \n",
       "425576             71186              5.1       28.0   \n",
       "\n",
       "        Percent Change in Resident Population  \n",
       "305803                                    3.4  \n",
       "101341                                    7.0  \n",
       "120391                                   15.9  \n",
       "308763                                    9.5  \n",
       "425576                                   15.9  "
      ]
     },
     "execution_count": 77,
     "metadata": {},
     "output_type": "execute_result"
    }
   ],
   "source": [
    "mlfeatures_train.head()"
   ]
  },
  {
   "cell_type": "code",
   "execution_count": 78,
   "metadata": {},
   "outputs": [
    {
     "data": {
      "text/plain": [
       "Index(['Five-Digit ZIP Code', 'year', 'RECESSION_FLAG', 'avg_rate_for_year',\n",
       "       'Median_hh_income', 'Year_Avg_Unempl', 'State_Num',\n",
       "       'Percent Change in Resident Population'],\n",
       "      dtype='object')"
      ]
     },
     "execution_count": 78,
     "metadata": {},
     "output_type": "execute_result"
    }
   ],
   "source": [
    "mlfeatures_train.columns"
   ]
  },
  {
   "attachments": {},
   "cell_type": "markdown",
   "metadata": {},
   "source": [
    "## Linear Regression"
   ]
  },
  {
   "cell_type": "code",
   "execution_count": 79,
   "metadata": {},
   "outputs": [
    {
     "data": {
      "text/plain": [
       "LinearRegression()"
      ]
     },
     "execution_count": 79,
     "metadata": {},
     "output_type": "execute_result"
    }
   ],
   "source": [
    "from sklearn.linear_model import LinearRegression\n",
    "\n",
    "# Create a Linear Regression model for each\n",
    "lr_model = LinearRegression()\n",
    "lr_model_date = LinearRegression()\n",
    "\n",
    "# Fit the model to the training data\n",
    "lr_model.fit(x_mlfeatures_train, y_mltarget_train)\n",
    "lr_model_date.fit(x_mlfeatures_train_date, y_mltarget_train_date)\n"
   ]
  },
  {
   "cell_type": "code",
   "execution_count": 80,
   "metadata": {},
   "outputs": [
    {
     "name": "stdout",
     "output_type": "stream",
     "text": [
      "80-20 split results\n",
      "Mean Squared Error: 46.53990884890454\n",
      "Root Mean Squared Error: 6.8220164796711344\n",
      "R-squared: 0.22144269593885557\n",
      "date-based results\n",
      "Mean Squared Error: 46.53990884890454\n",
      "Root Mean Squared Error: 6.8220164796711344\n",
      "R-squared: 0.22144269593885557\n"
     ]
    }
   ],
   "source": [
    "from sklearn.metrics import mean_squared_error, r2_score\n",
    "\n",
    "# Make predictions on the testing data\n",
    "y_mltarget_pred = lr_model.predict(x_mlfeatures_test) # 80/20 split\n",
    "y_mltarget_date_pred = lr_model_date.predict(x_mlfeatures_test_date) # date-based split\n",
    "\n",
    "print(\"80-20 split results\")\n",
    "# Print the key stats: mse, rmse, r-squared\n",
    "mse = mean_squared_error(y_mltarget_test, y_mltarget_pred)\n",
    "print(\"Mean Squared Error:\", mse)\n",
    "rmse = np.sqrt(mse)\n",
    "print(\"Root Mean Squared Error:\", rmse)\n",
    "r2 = r2_score(y_mltarget_test, y_mltarget_pred)\n",
    "print(\"R-squared:\", r2)\n",
    "\n",
    "\n",
    "print(\"date-based results\")\n",
    "# Print the key stats: mse, rmse, r-squared\n",
    "mse_date = mean_squared_error(y_mltarget_test, y_mltarget_pred)\n",
    "print(\"Mean Squared Error:\", mse_date)\n",
    "rmse_date = np.sqrt(mse_date)\n",
    "print(\"Root Mean Squared Error:\", rmse_date)\n",
    "r2_date = r2_score(y_mltarget_test_date, y_mltarget_date_pred)\n",
    "print(\"R-squared:\", r2)\n"
   ]
  },
  {
   "cell_type": "code",
   "execution_count": 81,
   "metadata": {},
   "outputs": [
    {
     "ename": "ValueError",
     "evalue": "X has 9 features, but LinearRegression is expecting 8 features as input.",
     "output_type": "error",
     "traceback": [
      "\u001b[0;31m---------------------------------------------------------------------------\u001b[0m",
      "\u001b[0;31mValueError\u001b[0m                                Traceback (most recent call last)",
      "\u001b[1;32m/Users/galenmittermann/Documents/GitHub/bootcamp-project-1/project-1-analysis.ipynb Cell 21\u001b[0m in \u001b[0;36m<cell line: 5>\u001b[0;34m()\u001b[0m\n\u001b[1;32m      <a href='vscode-notebook-cell:/Users/galenmittermann/Documents/GitHub/bootcamp-project-1/project-1-analysis.ipynb#X24sZmlsZQ%3D%3D?line=0'>1</a>\u001b[0m \u001b[39m# TESTING THE MODEL OUT\u001b[39;00m\n\u001b[1;32m      <a href='vscode-notebook-cell:/Users/galenmittermann/Documents/GitHub/bootcamp-project-1/project-1-analysis.ipynb#X24sZmlsZQ%3D%3D?line=1'>2</a>\u001b[0m \n\u001b[1;32m      <a href='vscode-notebook-cell:/Users/galenmittermann/Documents/GitHub/bootcamp-project-1/project-1-analysis.ipynb#X24sZmlsZQ%3D%3D?line=2'>3</a>\u001b[0m \n\u001b[1;32m      <a href='vscode-notebook-cell:/Users/galenmittermann/Documents/GitHub/bootcamp-project-1/project-1-analysis.ipynb#X24sZmlsZQ%3D%3D?line=3'>4</a>\u001b[0m \u001b[39m# Use the trained model to make predictions for the new dataset\u001b[39;00m\n\u001b[0;32m----> <a href='vscode-notebook-cell:/Users/galenmittermann/Documents/GitHub/bootcamp-project-1/project-1-analysis.ipynb#X24sZmlsZQ%3D%3D?line=4'>5</a>\u001b[0m predictions \u001b[39m=\u001b[39m lr_model\u001b[39m.\u001b[39;49mpredict(new_data)\n\u001b[1;32m      <a href='vscode-notebook-cell:/Users/galenmittermann/Documents/GitHub/bootcamp-project-1/project-1-analysis.ipynb#X24sZmlsZQ%3D%3D?line=5'>6</a>\u001b[0m predictions_date \u001b[39m=\u001b[39m lr_model_date\u001b[39m.\u001b[39mpredict(new_data)\n\u001b[1;32m      <a href='vscode-notebook-cell:/Users/galenmittermann/Documents/GitHub/bootcamp-project-1/project-1-analysis.ipynb#X24sZmlsZQ%3D%3D?line=6'>7</a>\u001b[0m \u001b[39m# Print the predicted annual change (%) for each year\u001b[39;00m\n",
      "File \u001b[0;32m~/opt/anaconda3/lib/python3.9/site-packages/sklearn/linear_model/_base.py:362\u001b[0m, in \u001b[0;36mLinearModel.predict\u001b[0;34m(self, X)\u001b[0m\n\u001b[1;32m    348\u001b[0m \u001b[39mdef\u001b[39;00m \u001b[39mpredict\u001b[39m(\u001b[39mself\u001b[39m, X):\n\u001b[1;32m    349\u001b[0m     \u001b[39m\"\"\"\u001b[39;00m\n\u001b[1;32m    350\u001b[0m \u001b[39m    Predict using the linear model.\u001b[39;00m\n\u001b[1;32m    351\u001b[0m \n\u001b[0;32m   (...)\u001b[0m\n\u001b[1;32m    360\u001b[0m \u001b[39m        Returns predicted values.\u001b[39;00m\n\u001b[1;32m    361\u001b[0m \u001b[39m    \"\"\"\u001b[39;00m\n\u001b[0;32m--> 362\u001b[0m     \u001b[39mreturn\u001b[39;00m \u001b[39mself\u001b[39;49m\u001b[39m.\u001b[39;49m_decision_function(X)\n",
      "File \u001b[0;32m~/opt/anaconda3/lib/python3.9/site-packages/sklearn/linear_model/_base.py:345\u001b[0m, in \u001b[0;36mLinearModel._decision_function\u001b[0;34m(self, X)\u001b[0m\n\u001b[1;32m    342\u001b[0m \u001b[39mdef\u001b[39;00m \u001b[39m_decision_function\u001b[39m(\u001b[39mself\u001b[39m, X):\n\u001b[1;32m    343\u001b[0m     check_is_fitted(\u001b[39mself\u001b[39m)\n\u001b[0;32m--> 345\u001b[0m     X \u001b[39m=\u001b[39m \u001b[39mself\u001b[39;49m\u001b[39m.\u001b[39;49m_validate_data(X, accept_sparse\u001b[39m=\u001b[39;49m[\u001b[39m\"\u001b[39;49m\u001b[39mcsr\u001b[39;49m\u001b[39m\"\u001b[39;49m, \u001b[39m\"\u001b[39;49m\u001b[39mcsc\u001b[39;49m\u001b[39m\"\u001b[39;49m, \u001b[39m\"\u001b[39;49m\u001b[39mcoo\u001b[39;49m\u001b[39m\"\u001b[39;49m], reset\u001b[39m=\u001b[39;49m\u001b[39mFalse\u001b[39;49;00m)\n\u001b[1;32m    346\u001b[0m     \u001b[39mreturn\u001b[39;00m safe_sparse_dot(X, \u001b[39mself\u001b[39m\u001b[39m.\u001b[39mcoef_\u001b[39m.\u001b[39mT, dense_output\u001b[39m=\u001b[39m\u001b[39mTrue\u001b[39;00m) \u001b[39m+\u001b[39m \u001b[39mself\u001b[39m\u001b[39m.\u001b[39mintercept_\n",
      "File \u001b[0;32m~/opt/anaconda3/lib/python3.9/site-packages/sklearn/base.py:585\u001b[0m, in \u001b[0;36mBaseEstimator._validate_data\u001b[0;34m(self, X, y, reset, validate_separately, **check_params)\u001b[0m\n\u001b[1;32m    582\u001b[0m     out \u001b[39m=\u001b[39m X, y\n\u001b[1;32m    584\u001b[0m \u001b[39mif\u001b[39;00m \u001b[39mnot\u001b[39;00m no_val_X \u001b[39mand\u001b[39;00m check_params\u001b[39m.\u001b[39mget(\u001b[39m\"\u001b[39m\u001b[39mensure_2d\u001b[39m\u001b[39m\"\u001b[39m, \u001b[39mTrue\u001b[39;00m):\n\u001b[0;32m--> 585\u001b[0m     \u001b[39mself\u001b[39;49m\u001b[39m.\u001b[39;49m_check_n_features(X, reset\u001b[39m=\u001b[39;49mreset)\n\u001b[1;32m    587\u001b[0m \u001b[39mreturn\u001b[39;00m out\n",
      "File \u001b[0;32m~/opt/anaconda3/lib/python3.9/site-packages/sklearn/base.py:400\u001b[0m, in \u001b[0;36mBaseEstimator._check_n_features\u001b[0;34m(self, X, reset)\u001b[0m\n\u001b[1;32m    397\u001b[0m     \u001b[39mreturn\u001b[39;00m\n\u001b[1;32m    399\u001b[0m \u001b[39mif\u001b[39;00m n_features \u001b[39m!=\u001b[39m \u001b[39mself\u001b[39m\u001b[39m.\u001b[39mn_features_in_:\n\u001b[0;32m--> 400\u001b[0m     \u001b[39mraise\u001b[39;00m \u001b[39mValueError\u001b[39;00m(\n\u001b[1;32m    401\u001b[0m         \u001b[39mf\u001b[39m\u001b[39m\"\u001b[39m\u001b[39mX has \u001b[39m\u001b[39m{\u001b[39;00mn_features\u001b[39m}\u001b[39;00m\u001b[39m features, but \u001b[39m\u001b[39m{\u001b[39;00m\u001b[39mself\u001b[39m\u001b[39m.\u001b[39m\u001b[39m__class__\u001b[39m\u001b[39m.\u001b[39m\u001b[39m__name__\u001b[39m\u001b[39m}\u001b[39;00m\u001b[39m \u001b[39m\u001b[39m\"\u001b[39m\n\u001b[1;32m    402\u001b[0m         \u001b[39mf\u001b[39m\u001b[39m\"\u001b[39m\u001b[39mis expecting \u001b[39m\u001b[39m{\u001b[39;00m\u001b[39mself\u001b[39m\u001b[39m.\u001b[39mn_features_in_\u001b[39m}\u001b[39;00m\u001b[39m features as input.\u001b[39m\u001b[39m\"\u001b[39m\n\u001b[1;32m    403\u001b[0m     )\n",
      "\u001b[0;31mValueError\u001b[0m: X has 9 features, but LinearRegression is expecting 8 features as input."
     ]
    }
   ],
   "source": [
    "# TESTING THE MODEL OUT\n",
    "\n",
    "\n",
    "# Use the trained model to make predictions for the new dataset\n",
    "predictions = lr_model.predict(new_data)\n",
    "predictions_date = lr_model_date.predict(new_data)\n",
    "# Print the predicted annual change (%) for each year\n",
    "print(\"Predicted Annual Change (%):\", predictions)\n",
    "print(\"Predicted Annual Change (%):\", predictions_date, \" based on date-split train test\")\n"
   ]
  },
  {
   "attachments": {},
   "cell_type": "markdown",
   "metadata": {},
   "source": [
    "## Random Forest"
   ]
  },
  {
   "cell_type": "code",
   "execution_count": 82,
   "metadata": {},
   "outputs": [],
   "source": [
    "from sklearn.ensemble import RandomForestRegressor\n",
    "\n",
    "# Create a Random Forest model\n",
    "rf_model = RandomForestRegressor(n_estimators=200, random_state=42)\n",
    "# Fit the model to the training data\n",
    "rf_model.fit(x_mlfeatures_train, y_mltarget_train)\n",
    "\n",
    "y_mltarget_pred = rf_model.predict(x_mlfeatures_test)"
   ]
  },
  {
   "cell_type": "code",
   "execution_count": 92,
   "metadata": {},
   "outputs": [
    {
     "name": "stdout",
     "output_type": "stream",
     "text": [
      "Results based on 80-20 split\n",
      "Mean Squared Error: 25.750482628421924\n",
      "Root Mean Squared Error: 5.074493337114744\n",
      "R-squared: 0.5692250623320806\n"
     ]
    }
   ],
   "source": [
    "print(\"Results based on 80-20 split\")\n",
    "# Print the key stats: mse, rmse, r-squared\n",
    "mse = mean_squared_error(y_mltarget_test, y_mltarget_pred)\n",
    "print(\"Mean Squared Error:\", mse)\n",
    "rmse = np.sqrt(mse)\n",
    "print(\"Root Mean Squared Error:\", rmse)\n",
    "r2 = r2_score(y_mltarget_test, y_mltarget_pred)\n",
    "print(\"R-squared:\", r2)"
   ]
  },
  {
   "cell_type": "code",
   "execution_count": 85,
   "metadata": {},
   "outputs": [
    {
     "name": "stdout",
     "output_type": "stream",
     "text": [
      "Predicted Annual Change (%): [15.81585 15.81585 15.81585]\n"
     ]
    }
   ],
   "source": [
    "# TESTING THE RANDOM SPLIT MODEL OUT\n",
    "\n",
    "\n",
    "# Use the trained model to make predictions for the new dataset\n",
    "predictions = rf_model.predict(new_data)\n",
    "\n",
    "# Print the predicted annual change (%) for each year\n",
    "print(\"Predicted Annual Change (%):\", predictions)"
   ]
  },
  {
   "attachments": {},
   "cell_type": "markdown",
   "metadata": {},
   "source": [
    "## Gradient Boost"
   ]
  },
  {
   "cell_type": "code",
   "execution_count": 86,
   "metadata": {},
   "outputs": [],
   "source": [
    "from sklearn.ensemble import GradientBoostingRegressor\n",
    "\n",
    "# Create an empty Gradient Boosting Regressor model\n",
    "gb_model = GradientBoostingRegressor(n_estimators=100, learning_rate=0.1, max_depth=5, random_state=42)\n",
    "\n",
    "# Fit the model to the training data\n",
    "gb_model.fit(x_mlfeatures_train, y_mltarget_train)\n",
    "\n",
    "# Make predictions on the testing data\n",
    "y_mltarget_pred = gb_model.predict(x_mlfeatures_test)\n"
   ]
  },
  {
   "cell_type": "code",
   "execution_count": 89,
   "metadata": {},
   "outputs": [
    {
     "name": "stdout",
     "output_type": "stream",
     "text": [
      "results from 80-20 split\n",
      "Mean Squared Error: 25.750482628421924\n",
      "Root Mean Squared Error: 5.074493337114744\n",
      "R-squared: 0.5692250623320806\n"
     ]
    }
   ],
   "source": [
    "\n",
    "print(\"results from 80-20 split\")\n",
    "# Print the key stats: mse, rmse, r-squared\n",
    "mse = mean_squared_error(y_mltarget_test, y_mltarget_pred)\n",
    "print(\"Mean Squared Error:\", mse)\n",
    "rmse = np.sqrt(mse)\n",
    "print(\"Root Mean Squared Error:\", rmse)\n",
    "r2 = r2_score(y_mltarget_test, y_mltarget_pred)\n",
    "print(\"R-squared:\", r2)\n"
   ]
  },
  {
   "attachments": {},
   "cell_type": "markdown",
   "metadata": {},
   "source": [
    "## Voting regressor to combine them"
   ]
  },
  {
   "cell_type": "code",
   "execution_count": 88,
   "metadata": {},
   "outputs": [
    {
     "name": "stderr",
     "output_type": "stream",
     "text": [
      "/Users/galenmittermann/opt/anaconda3/lib/python3.9/site-packages/sklearn/base.py:443: UserWarning: X has feature names, but RandomForestRegressor was fitted without feature names\n",
      "  warnings.warn(\n",
      "/Users/galenmittermann/opt/anaconda3/lib/python3.9/site-packages/sklearn/base.py:443: UserWarning: X has feature names, but GradientBoostingRegressor was fitted without feature names\n",
      "  warnings.warn(\n",
      "/Users/galenmittermann/opt/anaconda3/lib/python3.9/site-packages/sklearn/base.py:443: UserWarning: X has feature names, but LinearRegression was fitted without feature names\n",
      "  warnings.warn(\n"
     ]
    }
   ],
   "source": [
    "from sklearn.ensemble import VotingRegressor\n",
    "\n",
    "# Create the voting regressor\n",
    "voting_model = VotingRegressor([('rf', rf_model), ('gb', gb_model), ('lr', lr_model)])\n",
    "\n",
    "# Fit the voting regressor to the training data\n",
    "voting_model.fit(x_mlfeatures_train, y_mltarget_train)\n",
    "\n",
    "# Make predictions on the testing data\n",
    "y_mltarget_pred = voting_model.predict(mlfeatures_test)\n",
    "\n",
    "\n"
   ]
  },
  {
   "cell_type": "code",
   "execution_count": 91,
   "metadata": {},
   "outputs": [
    {
     "name": "stdout",
     "output_type": "stream",
     "text": [
      "Mean Squared Error: 25.750482628421924\n",
      "Root Mean Squared Error: 5.074493337114744\n",
      "R-squared: 0.5692250623320806\n"
     ]
    }
   ],
   "source": [
    "# Print the key stats: mse, rmse, r-squared\n",
    "mse = mean_squared_error(y_mltarget_test, y_mltarget_pred)\n",
    "print(\"Mean Squared Error:\", mse)\n",
    "rmse = np.sqrt(mse)\n",
    "print(\"Root Mean Squared Error:\", rmse)\n",
    "r2 = r2_score(y_mltarget_test, y_mltarget_pred)\n",
    "print(\"R-squared:\", r2)"
   ]
  },
  {
   "cell_type": "code",
   "execution_count": 93,
   "metadata": {},
   "outputs": [
    {
     "name": "stdout",
     "output_type": "stream",
     "text": [
      "Predicted Annual Change (%): [11.76698263 11.75325561 11.73952858]\n"
     ]
    }
   ],
   "source": [
    "\n",
    "# Use the trained model to make predictions for the new dataset\n",
    "predictions = voting_model.predict(new_data)\n",
    "\n",
    "# Print the predicted annual change (%) for each year\n",
    "print(\"Predicted Annual Change (%):\", predictions)"
   ]
  }
 ],
 "metadata": {
  "kernelspec": {
   "display_name": "base",
   "language": "python",
   "name": "python3"
  },
  "language_info": {
   "codemirror_mode": {
    "name": "ipython",
    "version": 3
   },
   "file_extension": ".py",
   "mimetype": "text/x-python",
   "name": "python",
   "nbconvert_exporter": "python",
   "pygments_lexer": "ipython3",
   "version": "3.9.12"
  },
  "orig_nbformat": 4,
  "vscode": {
   "interpreter": {
    "hash": "df5712aa3f921eb2eb064e76ec6d348628836f3c09ef1fb193d7a12f9a4aac42"
   }
  }
 },
 "nbformat": 4,
 "nbformat_minor": 2
}
