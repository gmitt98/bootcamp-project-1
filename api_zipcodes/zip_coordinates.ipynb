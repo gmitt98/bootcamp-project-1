{
 "cells": [
  {
   "cell_type": "markdown",
   "id": "745aea82",
   "metadata": {},
   "source": [
    "**Get coordinates for zip codes**\n",
    "\n",
    "Get coordinates for a list of zip codes for a file entered manually"
   ]
  },
  {
   "cell_type": "code",
   "execution_count": 4,
   "id": "a943cb78",
   "metadata": {},
   "outputs": [
    {
     "name": "stdout",
     "output_type": "stream",
     "text": [
      "Beginning requests\n",
      "Process completed: file saved to ../data/analysis/outliers_ratio_coordinates_2019_to_2022.csv\n"
     ]
    }
   ],
   "source": [
    "import pandas as pd\n",
    "import numpy as np\n",
    "\n",
    "from zip_coordinates_function import get_zip_coordinates\n",
    "\n",
    "# Import list of zip code outliers from the .csv file\n",
    "file_path = \"../data/analysis/outliers_ratio_2019_to_2022.csv\"\n",
    "outlier_zips_df = pd.read_csv(file_path)\n",
    "# Remove the first column which was the old index\n",
    "outlier_zips_df.drop(columns=outlier_zips_df.columns[0], axis=1,  inplace=True)\n",
    "\n",
    "# Make a list of the zip codes for this file\n",
    "zip_codes_list = outlier_zips_df[\"zip_code\"].tolist()\n",
    "# Adds 0s to the start of zip codes that start with 0s, as that character is otherwise missing\n",
    "zip_codes_list = [str(int(z)).zfill(5) for z in zip_codes_list]\n",
    "\n",
    "# Make empty lists to hold results\n",
    "lats = []\n",
    "lons = []\n",
    "\n",
    "print(\"Beginning requests\")\n",
    "\n",
    "for zip in zip_codes_list:\n",
    "        \n",
    "    # Get the coordinates using the function\n",
    "    lat, lon = get_zip_coordinates(zip)\n",
    "    lats.append(lat)\n",
    "    lons.append(lon)\n",
    "\n",
    "# Add the results into the dataframe\n",
    "outlier_zips_df['lat'] = lats\n",
    "outlier_zips_df['lon'] = lons\n",
    "\n",
    "# Save the results to a file\n",
    "outlier_zips_df.to_csv(f'../data/analysis/outliers_ratio_coordinates_2019_to_2022.csv')\n",
    "\n",
    "print(\"Process completed: file saved to ../data/analysis/outliers_ratio_coordinates_2019_to_2022.csv\")"
   ]
  },
  {
   "cell_type": "code",
   "execution_count": null,
   "id": "69b56a92",
   "metadata": {},
   "outputs": [],
   "source": []
  }
 ],
 "metadata": {
  "kernelspec": {
   "display_name": "Python 3 (ipykernel)",
   "language": "python",
   "name": "python3"
  },
  "language_info": {
   "codemirror_mode": {
    "name": "ipython",
    "version": 3
   },
   "file_extension": ".py",
   "mimetype": "text/x-python",
   "name": "python",
   "nbconvert_exporter": "python",
   "pygments_lexer": "ipython3",
   "version": "3.9.16"
  }
 },
 "nbformat": 4,
 "nbformat_minor": 5
}
