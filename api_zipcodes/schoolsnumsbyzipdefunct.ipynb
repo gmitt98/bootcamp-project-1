{
 "cells": [
  {
   "cell_type": "code",
   "execution_count": 1,
   "id": "ae5f4d36",
   "metadata": {},
   "outputs": [],
   "source": [
    "# Dependencies\n",
    "import requests\n",
    "import json\n",
    "from pprint import pprint\n",
    "import pandas as pd\n",
    "import numpy as np\n",
    "import re\n",
    "from single_zip_function import get_schools_in_zip\n",
    "from outliers_utility import single_year_outliers\n",
    "\n",
    "# Import the API key\n",
    "from config import geoapify_key"
   ]
  },
  {
   "cell_type": "code",
   "execution_count": 2,
   "id": "a943cb78",
   "metadata": {},
   "outputs": [],
   "source": [
    "# Read in outlier zipcode data\n",
    "file_path_zips = \"../data/analysis/annual_outlier_zips.csv\"\n",
    "annual_outlier_zips_df = pd.read_csv(file_path_zips)\n",
    "annual_outlier_zips_df.drop(columns=annual_outlier_zips_df.columns[0], axis=1, inplace=True)\n",
    "\n",
    "file_path_values = \"../data/analysis/annual_outlier_values.csv\"\n",
    "annual_outlier_values_df = pd.read_csv(file_path_values)\n",
    "annual_outlier_values_df.drop(columns=annual_outlier_values_df.columns[0], axis=1, inplace=True)"
   ]
  },
  {
   "cell_type": "code",
   "execution_count": 3,
   "id": "ba91f621",
   "metadata": {},
   "outputs": [],
   "source": [
    "# If you want to select out a specific year\n",
    "year = '2018'\n",
    "\n",
    "# Create a dataframe with zip codes for the year you want\n",
    "year_zips_df = pd.DataFrame()\n",
    "year_zips = annual_outlier_zips_df[year]\n",
    "year_zips_df[year] = year_zips\n",
    "\n",
    "# Create a dataframe with values for the year  you want\n",
    "year_values_df = pd.DataFrame()\n",
    "year_values = annual_outlier_values_df[year]\n",
    "year_values_df[year] = year_values"
   ]
  },
  {
   "cell_type": "code",
   "execution_count": 4,
   "id": "5a73557d",
   "metadata": {},
   "outputs": [],
   "source": [
    "# Remove empty cells to leave only the year you want\n",
    "year_zips_cleaned_df = year_zips_df.dropna().copy()\n",
    "year_values_cleaned_df = year_values_df.dropna().copy()\n",
    "\n",
    "# Rename the columns\n",
    "year_zips_cleaned_df.rename(columns={year: \"zip_code\"}, inplace=True)\n",
    "year_values_cleaned_df.rename(columns={year: \"Annual Change (%)\"}, inplace=True)"
   ]
  },
  {
   "cell_type": "code",
   "execution_count": 5,
   "id": "8778f897",
   "metadata": {},
   "outputs": [
    {
     "data": {
      "text/html": [
       "<div>\n",
       "<style scoped>\n",
       "    .dataframe tbody tr th:only-of-type {\n",
       "        vertical-align: middle;\n",
       "    }\n",
       "\n",
       "    .dataframe tbody tr th {\n",
       "        vertical-align: top;\n",
       "    }\n",
       "\n",
       "    .dataframe thead th {\n",
       "        text-align: right;\n",
       "    }\n",
       "</style>\n",
       "<table border=\"1\" class=\"dataframe\">\n",
       "  <thead>\n",
       "    <tr style=\"text-align: right;\">\n",
       "      <th></th>\n",
       "      <th>zip_code</th>\n",
       "      <th>Annual Change (%)</th>\n",
       "    </tr>\n",
       "  </thead>\n",
       "  <tbody>\n",
       "    <tr>\n",
       "      <th>14240</th>\n",
       "      <td>93660.0</td>\n",
       "      <td>27.71</td>\n",
       "    </tr>\n",
       "    <tr>\n",
       "      <th>14241</th>\n",
       "      <td>97011.0</td>\n",
       "      <td>18.59</td>\n",
       "    </tr>\n",
       "    <tr>\n",
       "      <th>14242</th>\n",
       "      <td>32811.0</td>\n",
       "      <td>21.26</td>\n",
       "    </tr>\n",
       "    <tr>\n",
       "      <th>14243</th>\n",
       "      <td>5261.0</td>\n",
       "      <td>-8.25</td>\n",
       "    </tr>\n",
       "    <tr>\n",
       "      <th>14244</th>\n",
       "      <td>34947.0</td>\n",
       "      <td>30.39</td>\n",
       "    </tr>\n",
       "    <tr>\n",
       "      <th>...</th>\n",
       "      <td>...</td>\n",
       "      <td>...</td>\n",
       "    </tr>\n",
       "    <tr>\n",
       "      <th>14833</th>\n",
       "      <td>15690.0</td>\n",
       "      <td>-8.66</td>\n",
       "    </tr>\n",
       "    <tr>\n",
       "      <th>14834</th>\n",
       "      <td>11548.0</td>\n",
       "      <td>-21.09</td>\n",
       "    </tr>\n",
       "    <tr>\n",
       "      <th>14835</th>\n",
       "      <td>39305.0</td>\n",
       "      <td>-5.78</td>\n",
       "    </tr>\n",
       "    <tr>\n",
       "      <th>14836</th>\n",
       "      <td>19964.0</td>\n",
       "      <td>23.97</td>\n",
       "    </tr>\n",
       "    <tr>\n",
       "      <th>14837</th>\n",
       "      <td>11030.0</td>\n",
       "      <td>-5.43</td>\n",
       "    </tr>\n",
       "  </tbody>\n",
       "</table>\n",
       "<p>598 rows × 2 columns</p>\n",
       "</div>"
      ],
      "text/plain": [
       "       zip_code  Annual Change (%)\n",
       "14240   93660.0              27.71\n",
       "14241   97011.0              18.59\n",
       "14242   32811.0              21.26\n",
       "14243    5261.0              -8.25\n",
       "14244   34947.0              30.39\n",
       "...         ...                ...\n",
       "14833   15690.0              -8.66\n",
       "14834   11548.0             -21.09\n",
       "14835   39305.0              -5.78\n",
       "14836   19964.0              23.97\n",
       "14837   11030.0              -5.43\n",
       "\n",
       "[598 rows x 2 columns]"
      ]
     },
     "execution_count": 5,
     "metadata": {},
     "output_type": "execute_result"
    }
   ],
   "source": [
    "# Merge the two cleaned DataFrams\n",
    "merge_df = year_zips_cleaned_df.join(year_values_cleaned_df)\n",
    "merge_df"
   ]
  },
  {
   "cell_type": "code",
   "execution_count": 6,
   "id": "1f7733b4",
   "metadata": {},
   "outputs": [],
   "source": [
    "# If you want to check all the years\n",
    "# Create a list of all the years in the set\n",
    "# Not using this functionality in this version but it's here if you need it!\n",
    "years_list = annual_outlier_values_df.keys()\n",
    "\n",
    "for year in years_list:\n",
    "    # Create a dataframe with zip codes for the year you want\n",
    "    year_zips = annual_outlier_zips_df[year]\n",
    "    year_zips_cleaned_df = pd.DataFrame({year: year_zips}).dropna().copy()\n",
    "    year_zips_cleaned_df.rename(columns={year: \"zip_code\"}, inplace=True)\n",
    "\n",
    "    # Create a dataframe with values for the year you want\n",
    "    year_values = annual_outlier_values_df[year]\n",
    "    year_values_cleaned_df = pd.DataFrame({year: year_values}).dropna().copy()\n",
    "    year_values_cleaned_df.rename(columns={year: \"Annual Change (%)\"}, inplace=True)\n",
    "\n",
    "    # Merge the two cleaned DataFrams\n",
    "    all_merge_df = year_zips_cleaned_df.join(year_values_cleaned_df)\n",
    "    # Then use all_merge_df in this iteration of the loop for whatever you're doing with it"
   ]
  },
  {
   "cell_type": "code",
   "execution_count": 7,
   "id": "ac8ed106",
   "metadata": {},
   "outputs": [],
   "source": [
    "zip_list = []\n",
    "for zipcode in merge_df['zip_code']:\n",
    "    # Convert the zipcode to an integer, then back to a string\n",
    "    # This will remove any leading zeros from the zipcode\n",
    "    zipcode_str = str(int(zipcode))\n",
    "    zip_list.append(zipcode_str)"
   ]
  },
  {
   "cell_type": "code",
   "execution_count": 8,
   "id": "524578ad",
   "metadata": {},
   "outputs": [
    {
     "name": "stdout",
     "output_type": "stream",
     "text": [
      "['93660', '97011', '32811', '5261', '34947', '34236', '35014', '96756', '93591', '35217', '6023', '94087', '32686', '92270', '35961', '5483', '33838', '34705', '33839', '31022', '35005', '92660', '6018', '33859', '92385', '33573', '3592', '95129', '36277', '34714', '98934', '35063', '8045', '35118', '95423', '94938', '6069', '6793', '32641', '93669', '33619', '96795', '32550', '35905', '33850', '6112', '95126', '31217', '95365', '95128', '93622', '6068', '95668', '4347', '5257', '94925', '5763', '34269', '94085', '6783', '95032', '94939', '33472', '33190', '32304', '3243', '34433', '93505', '6794', '34448', '2534', '32254', '31816', '33142', '92037', '33035', '3465', '33147', '33815', '5033', '94002', '3217', '35208', '35610', '36104', '32767', '30746', '30753', '94043', '36201', '34797', '33946', '32784', '95050', '32222', '32112', '34453', '1038', '33598', '3280', '33545', '95054', '35188', '35184', '35622', '5251', '94062', '95138', '35647', '94063', '3218', '35643', '34691', '92590', '31415', '94704', '7711', '32413', '1050', '35049', '96762', '33140', '6759', '35211', '30735', '95118', '2863', '92268', '94070', '32461', '5663', '33154', '1011', '33947', '92378', '36268', '5255', '95231', '3581', '32114', '95916', '94010', '33127', '3266', '95110', '34242', '6757', '6088', '92561', '31705', '34785', '34607', '33579', '95112', '35805', '98253', '29906', '62692', '98576', '49007', '12202', '43164', '78227', '48885', '29692', '78224', '48877', '29689', '12204', '43155', '48891', '98424', '44707', '62513', '49061', '12138', '28556', '62424', '62338', '49072', '30005', '62642', '12168', '73119', '62628', '62634', '43107', '19029', '98349', '49029', '29940', '62573', '44703', '98340', '64124', '73007', '12521', '2139', '44625', '14301', '44626', '43413', '44613', '64490', '44609', '97836', '43347', '12543', '22740', '12428', '64052', '17040', '48850', '48871', '64018', '48865', '2140', '22715', '22716', '12516', '98262', '97913', '84311', '44645', '25420', '64077', '74110', '28479', '77547', '85611', '85638', '16424', '74119', '22027', '61242', '98232', '49279', '49271', '27053', '61373', '85395', '61325', '61353', '44843', '11797', '61039', '30088', '74343', '21914', '77518', '77506', '19142', '49342', '74128', '49406', '16323', '61760', '98418', '73527', '61756', '61770', '78013', '61726', '78002', '30035', '61864', '61872', '85143', '16844', '46404', '16841', '85128', '41144', '61531', '1220', '44836', '61455', '49262', '61486', '61547', '14482', '97452', '77835', '61568', '24013', '13159', '29401', '13142', '17728', '44311', '70788', '80427', '44105', '79536', '29374', '13211', '17565', '17562', '68366', '44108', '68349', '14103', '48157', '17846', '80536', '14111', '68108', '68111', '44076', '70805', '13112', '80481', '17309', '17771', '97536', '68069', '24176', '97499', '70346', '17401', '13605', '29059', '48021', '13619', '47807', '14008', '14028', '47977', '47963', '13903', '44128', '1255', '68532', '68649', '24088', '13308', '1254', '24078', '17554', '70555', '24137', '48030', '70085', '13439', '70039', '13438', '18229', '12780', '29583', '83686', '72542', '18255', '83801', '43556', '78638', '18085', '23011', '83605', '66076', '22969', '83655', '43451', '47036', '43456', '22841', '18447', '64644', '78559', '43442', '12567', '47024', '43464', '43445', '1230', '64720', '12581', '48519', '18344', '48464', '65632', '44491', '48458', '44502', '1337', '97469', '65243', '43466', '47102', '14212', '67146', '67144', '47273', '67205', '43945', '13033', '67120', '24549', '13060', '44405', '44404', '14136', '17237', '18053', '66209', '83334', '24563', '72132', '14210', '44431', '43837', '48342', '2129', '23083', '81632', '44436', '30291', '20677', '54156', '15043', '75249', '27891', '20689', '30294', '77025', '20684', '77038', '97376', '8609', '77016', '56524', '37806', '75454', '15056', '30296', '15314', '77024', '20690', '30297', '15059', '28137', '90265', '38366', '30238', '38222', '21223', '77081', '46058', '36340', '77076', '75180', '20129', '10969', '28167', '15530', '20611', '30260', '53812', '53922', '60043', '77048', '15021', '28114', '90404', '45232', '90405', '97021', '20763', '36703', '36750', '8097', '91917', '45402', '45406', '36502', '76115', '30354', '8079', '55385', '8068', '76119', '37714', '30311', '37738', '15233', '30314', '56326', '55017', '45341', '37309', '55925', '37317', '8241', '8243', '55910', '98377', '45333', '8328', '56009', '8311', '55965', '14611', '60523', '28360', '16051', '60501', '28356', '77423', '89106', '89108', '89107', '60553', '89101', '60537', '89115', '89110', '11739', '40051', '89156', '39530', '39556', '89448', '60460', '15942', '89429', '39573', '89169', '60484', '50214', '60476', '45118', '39563', '16143', '28394', '30105', '74857', '77479', '46229', '16154', '97102', '60963', '14544', '49450', '16156', '40337', '14555', '97360', '89030', '46218', '49880', '40210', '89011', '77430', '11749', '50007', '89040', '87701', '49668', '46225', '49726', '87540', '97438', '60621', '88317', '60623', '46128', '75134', '60407', '45204', '60426', '90007', '38703', '19801', '19946', '38751', '60173', '51525', '52802', '51571', '39194', '45167', '45205', '60409', '15902', '51561', '30216', '14760', '21654', '20037', '15697', '15926', '21657', '19706', '28333', '15690', '11548', '39305', '19964', '11030']\n"
     ]
    }
   ],
   "source": [
    "print(zip_list)"
   ]
  },
  {
   "cell_type": "code",
   "execution_count": 9,
   "id": "51aeac2e",
   "metadata": {},
   "outputs": [
    {
     "name": "stdout",
     "output_type": "stream",
     "text": [
      "93660\n",
      "                                      name         county zipcode         lon  \\\n",
      "0            San Joaquin Elementary School  Fresno County   93660 -120.187670   \n",
      "1           Tranquillity Elementary School  Fresno County   93668 -120.251439   \n",
      "2                 Tranquillity High School  Fresno County   93668 -120.253202   \n",
      "3                   Helm Elementary School  Fresno County   93627 -120.099579   \n",
      "18  Kerman Union High School (Former Site)  Fresno County   93630 -120.060992   \n",
      "19          Burrel Union Elementary School  Fresno County   93656 -119.988643   \n",
      "\n",
      "          lat  distance  \n",
      "0   36.610547        47  \n",
      "1   36.644238      6601  \n",
      "2   36.645935      6852  \n",
      "3   36.533151     11583  \n",
      "18  36.772168     21340  \n",
      "19  36.491735     22107  \n",
      "97011\n",
      "                                 name            county zipcode         lon  \\\n",
      "0          Arrah Wanna Outdoor School  Clackamas County   97067 -121.975634   \n",
      "1               Welches Middle School  Clackamas County   97067 -121.947091   \n",
      "2               Howard Outdoor School  Clackamas County   97019 -122.187174   \n",
      "3           Firwood Elementary School  Clackamas County   97055 -122.222047   \n",
      "4           Cedar Ridge Middle School  Clackamas County   97055 -122.260947   \n",
      "5           Cedar Ridge Middle School  Clackamas County   97055 -122.261184   \n",
      "6           Cedar Ridge Middle School  Clackamas County   97055 -122.261839   \n",
      "7                  Sandy Grade School  Clackamas County   97055 -122.262663   \n",
      "8               Namanu Outdoor School  Clackamas County   97055 -122.241331   \n",
      "9                   Sandy High School  Clackamas County   97055 -122.269763   \n",
      "10                  Sandy High School  Clackamas County   97055 -122.277894   \n",
      "11                 Mount Hood Academy  Clackamas County   97028 -121.757218   \n",
      "13            Kelso Elementary School  Clackamas County   97009 -122.307021   \n",
      "14           Guide Dogs for the Blind  Clackamas County   97009 -122.324372   \n",
      "15               Estacada High School  Clackamas County   97023 -122.330995   \n",
      "16       River Mill Elementary School  Clackamas County   97023 -122.334170   \n",
      "17        Estacada Junior High School  Clackamas County   97023 -122.332675   \n",
      "18  Clackamas River Elementary School  Clackamas County   97023 -122.332729   \n",
      "19      Eagle Creek Elementary School  Clackamas County   97022 -122.352449   \n",
      "\n",
      "          lat  distance  \n",
      "0   45.343327      4044  \n",
      "1   45.343632      5683  \n",
      "2   45.443574     16113  \n",
      "3   45.373815     16611  \n",
      "4   45.400013     19896  \n",
      "5   45.398968     19968  \n",
      "6   45.398728     20025  \n",
      "7   45.398813     20063  \n",
      "8   45.447716     20089  \n",
      "9   45.400178     20686  \n",
      "10  45.404533     20878  \n",
      "11  45.304656     21064  \n",
      "13  45.420176     23876  \n",
      "14  45.420071     25103  \n",
      "15  45.297104     26366  \n",
      "16  45.297207     26648  \n",
      "17  45.293329     26710  \n",
      "18  45.291575     26779  \n",
      "19  45.361692     26938  \n",
      "32811\n",
      "                                        name         county zipcode  \\\n",
      "0             Eagle's Nest Elementary School  Orange County   32811   \n",
      "1                Millennia Elementary School  Orange County   32819   \n",
      "2         Richmond Heights Elementary School  Orange County   32811   \n",
      "3                       Carver Middle School  Orange County   32811   \n",
      "4                Eccleston Elementary School  Orange County   32811   \n",
      "5                    Winter Park Day Nursery  Orange County   32811   \n",
      "6                  Fellowship Baptist School  Orange County   32839   \n",
      "7        Millennia Gardens Elementary School  Orange County   32839   \n",
      "8            Shingle Creek Elementary School  Orange County   32819   \n",
      "9         Trinity Lutheran Elementary School  Orange County   32835   \n",
      "10                    Discovery Prep Academy  Orange County   32819   \n",
      "11  A Tiny Christian Soldier Day Care Center  Orange County   32835   \n",
      "12       Washington Shores Elementary School  Orange County   32805   \n",
      "13                  Dr. Phillips High School  Orange County   32819   \n",
      "14                     Alternative Education  Orange County   32855   \n",
      "15              Orlo Vista Elementary School  Orange County   32818   \n",
      "17               MetroWest Elementary School  Orange County   32835   \n",
      "18                Catalina Elementary School  Orange County   32855   \n",
      "19                  Sadler Elementary School  Orange County   32839   \n",
      "\n",
      "          lon        lat  distance    village  \n",
      "0  -81.453165  28.516618      1293        NaN  \n",
      "1  -81.444230  28.486072      1997        NaN  \n",
      "2  -81.428130  28.515241      2430        NaN  \n",
      "3  -81.436359  28.525096      2528        NaN  \n",
      "4  -81.433391  28.525086      2731        NaN  \n",
      "5  -81.433127  28.522503      2747        NaN  \n",
      "6  -81.426460  28.518892      2990        NaN  \n",
      "7  -81.420994  28.495580      3063        NaN  \n",
      "8  -81.434273  28.480589      3148        NaN  \n",
      "9  -81.461183  28.532502      3257        NaN  \n",
      "10 -81.475198  28.480984      3342        NaN  \n",
      "11 -81.484239  28.493893      3349        NaN  \n",
      "12 -81.422610  28.529373      3814        NaN  \n",
      "13 -81.477112  28.469832      3932        NaN  \n",
      "14 -81.410975  28.512125      3962        NaN  \n",
      "15 -81.458683  28.541947      4229        NaN  \n",
      "17 -81.493472  28.520562      4246  MetroWest  \n",
      "18 -81.408503  28.511458      4342        NaN  \n",
      "19 -81.427015  28.471671      4365        NaN  \n",
      "5261\n"
     ]
    },
    {
     "ename": "IndexError",
     "evalue": "list index out of range",
     "output_type": "error",
     "traceback": [
      "\u001b[0;31m---------------------------------------------------------------------------\u001b[0m",
      "\u001b[0;31mIndexError\u001b[0m                                Traceback (most recent call last)",
      "\u001b[0;32m/var/folders/5t/l79k35_54pxg06dsgb146xwh0000gn/T/ipykernel_71042/3562378884.py\u001b[0m in \u001b[0;36m<module>\u001b[0;34m\u001b[0m\n\u001b[1;32m      1\u001b[0m \u001b[0;32mfor\u001b[0m \u001b[0mzipcode\u001b[0m \u001b[0;32min\u001b[0m \u001b[0mzip_list\u001b[0m\u001b[0;34m:\u001b[0m\u001b[0;34m\u001b[0m\u001b[0;34m\u001b[0m\u001b[0m\n\u001b[1;32m      2\u001b[0m     \u001b[0mprint\u001b[0m\u001b[0;34m(\u001b[0m\u001b[0mzipcode\u001b[0m\u001b[0;34m)\u001b[0m\u001b[0;34m\u001b[0m\u001b[0;34m\u001b[0m\u001b[0m\n\u001b[0;32m----> 3\u001b[0;31m     \u001b[0marea_df\u001b[0m\u001b[0;34m,\u001b[0m\u001b[0mzip_df\u001b[0m \u001b[0;34m=\u001b[0m \u001b[0mget_schools_in_zip\u001b[0m\u001b[0;34m(\u001b[0m\u001b[0mzipcode\u001b[0m\u001b[0;34m)\u001b[0m\u001b[0;34m\u001b[0m\u001b[0;34m\u001b[0m\u001b[0m\n\u001b[0m\u001b[1;32m      4\u001b[0m     \u001b[0mprint\u001b[0m\u001b[0;34m(\u001b[0m\u001b[0marea_df\u001b[0m\u001b[0;34m)\u001b[0m\u001b[0;34m\u001b[0m\u001b[0;34m\u001b[0m\u001b[0m\n",
      "\u001b[0;32m~/Desktop/bootcamp-project-1/api_zipcodes/single_zip_function.py\u001b[0m in \u001b[0;36mget_schools_in_zip\u001b[0;34m(zipcode)\u001b[0m\n\u001b[1;32m     20\u001b[0m \u001b[0;34m\u001b[0m\u001b[0m\n\u001b[1;32m     21\u001b[0m     \u001b[0;31m# Extract latitude and longitude from the response\u001b[0m\u001b[0;34m\u001b[0m\u001b[0;34m\u001b[0m\u001b[0m\n\u001b[0;32m---> 22\u001b[0;31m     \u001b[0mlat\u001b[0m\u001b[0;34m,\u001b[0m \u001b[0mlon\u001b[0m \u001b[0;34m=\u001b[0m \u001b[0mresponse\u001b[0m\u001b[0;34m[\u001b[0m\u001b[0;34m'features'\u001b[0m\u001b[0;34m]\u001b[0m\u001b[0;34m[\u001b[0m\u001b[0;36m0\u001b[0m\u001b[0;34m]\u001b[0m\u001b[0;34m[\u001b[0m\u001b[0;34m'properties'\u001b[0m\u001b[0;34m]\u001b[0m\u001b[0;34m[\u001b[0m\u001b[0;34m'lat'\u001b[0m\u001b[0;34m]\u001b[0m\u001b[0;34m,\u001b[0m \u001b[0mresponse\u001b[0m\u001b[0;34m[\u001b[0m\u001b[0;34m'features'\u001b[0m\u001b[0;34m]\u001b[0m\u001b[0;34m[\u001b[0m\u001b[0;36m0\u001b[0m\u001b[0;34m]\u001b[0m\u001b[0;34m[\u001b[0m\u001b[0;34m'properties'\u001b[0m\u001b[0;34m]\u001b[0m\u001b[0;34m[\u001b[0m\u001b[0;34m'lon'\u001b[0m\u001b[0;34m]\u001b[0m\u001b[0;34m\u001b[0m\u001b[0;34m\u001b[0m\u001b[0m\n\u001b[0m\u001b[1;32m     23\u001b[0m \u001b[0;34m\u001b[0m\u001b[0m\n\u001b[1;32m     24\u001b[0m     \u001b[0;31m# Set paramaters for type of place\u001b[0m\u001b[0;34m\u001b[0m\u001b[0;34m\u001b[0m\u001b[0m\n",
      "\u001b[0;31mIndexError\u001b[0m: list index out of range"
     ]
    }
   ],
   "source": [
    "for zipcode in zip_list:\n",
    "    print(zipcode)\n",
    "    area_df,zip_df = get_schools_in_zip(zipcode)\n",
    "    print(area_df)"
   ]
  },
  {
   "cell_type": "code",
   "execution_count": null,
   "id": "094a7f0b",
   "metadata": {},
   "outputs": [],
   "source": []
  },
  {
   "cell_type": "code",
   "execution_count": null,
   "id": "8c75c1c7",
   "metadata": {},
   "outputs": [],
   "source": [
    "get_schools_in_zip(\"90049\")"
   ]
  },
  {
   "cell_type": "code",
   "execution_count": null,
   "id": "d7be9aee",
   "metadata": {},
   "outputs": [],
   "source": [
    "for zipcode in zip_list:\n",
    "    # call the get_schools_in_zip function to get the data\n",
    "    zip_df, area_df = get_schools_in_zip(zipcode)[0]\n",
    "    num_in_zip=len(zip_df)+1\n",
    "    num_in_area=len(area_df)+1"
   ]
  },
  {
   "cell_type": "code",
   "execution_count": null,
   "id": "c8614ddb",
   "metadata": {},
   "outputs": [],
   "source": [
    "print(result)"
   ]
  },
  {
   "cell_type": "code",
   "execution_count": null,
   "id": "65d1d23a",
   "metadata": {},
   "outputs": [],
   "source": [
    "print(len(result[0]))"
   ]
  },
  {
   "cell_type": "code",
   "execution_count": null,
   "id": "3441b07b",
   "metadata": {},
   "outputs": [],
   "source": []
  }
 ],
 "metadata": {
  "kernelspec": {
   "display_name": "Python 3 (ipykernel)",
   "language": "python",
   "name": "python3"
  },
  "language_info": {
   "codemirror_mode": {
    "name": "ipython",
    "version": 3
   },
   "file_extension": ".py",
   "mimetype": "text/x-python",
   "name": "python",
   "nbconvert_exporter": "python",
   "pygments_lexer": "ipython3",
   "version": "3.9.13"
  }
 },
 "nbformat": 4,
 "nbformat_minor": 5
}
